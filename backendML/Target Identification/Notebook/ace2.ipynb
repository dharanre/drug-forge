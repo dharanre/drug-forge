{
 "cells": [
  {
   "cell_type": "code",
   "execution_count": 1,
   "id": "58ba3947-1eb8-44c1-8119-83321f522ff5",
   "metadata": {},
   "outputs": [
    {
     "name": "stdout",
     "output_type": "stream",
     "text": [
      "Requirement already satisfied: scikit-learn-intelex in c:\\users\\ssanj\\miniconda3\\envs\\mldd24\\lib\\site-packages (2024.7.0)\n",
      "Requirement already satisfied: daal4py==2024.7.0 in c:\\users\\ssanj\\miniconda3\\envs\\mldd24\\lib\\site-packages (from scikit-learn-intelex) (2024.7.0)\n",
      "Requirement already satisfied: scikit-learn>=0.22 in c:\\users\\ssanj\\miniconda3\\envs\\mldd24\\lib\\site-packages (from scikit-learn-intelex) (1.5.2)\n",
      "Requirement already satisfied: daal==2024.7.0 in c:\\users\\ssanj\\miniconda3\\envs\\mldd24\\lib\\site-packages (from daal4py==2024.7.0->scikit-learn-intelex) (2024.7.0)\n",
      "Requirement already satisfied: numpy>=1.19 in c:\\users\\ssanj\\miniconda3\\envs\\mldd24\\lib\\site-packages (from daal4py==2024.7.0->scikit-learn-intelex) (1.26.4)\n",
      "Requirement already satisfied: tbb==2021.* in c:\\users\\ssanj\\miniconda3\\envs\\mldd24\\lib\\site-packages (from daal==2024.7.0->daal4py==2024.7.0->scikit-learn-intelex) (2021.13.1)\n",
      "Requirement already satisfied: scipy>=1.6.0 in c:\\users\\ssanj\\miniconda3\\envs\\mldd24\\lib\\site-packages (from scikit-learn>=0.22->scikit-learn-intelex) (1.14.1)\n",
      "Requirement already satisfied: joblib>=1.2.0 in c:\\users\\ssanj\\miniconda3\\envs\\mldd24\\lib\\site-packages (from scikit-learn>=0.22->scikit-learn-intelex) (1.4.2)\n",
      "Requirement already satisfied: threadpoolctl>=3.1.0 in c:\\users\\ssanj\\miniconda3\\envs\\mldd24\\lib\\site-packages (from scikit-learn>=0.22->scikit-learn-intelex) (3.5.0)\n"
     ]
    }
   ],
   "source": [
    "!pip install scikit-learn-intelex"
   ]
  },
  {
   "cell_type": "code",
   "execution_count": 2,
   "id": "4b47c3cd-04e9-4a69-a5e5-cf2c6d420be1",
   "metadata": {},
   "outputs": [
    {
     "name": "stderr",
     "output_type": "stream",
     "text": [
      "Intel(R) Extension for Scikit-learn* enabled (https://github.com/intel/scikit-learn-intelex)\n"
     ]
    }
   ],
   "source": [
    "from sklearnex import patch_sklearn\n",
    "patch_sklearn()"
   ]
  },
  {
   "cell_type": "code",
   "execution_count": null,
   "id": "958e145b-e2fe-44a5-bf60-38e1103ce79a",
   "metadata": {},
   "outputs": [],
   "source": [
    "import pandas as pd\n",
    "import numpy as np\n",
    "import matplotlib.pyplot as plt\n",
    "from rdkit import Chem\n",
    "from rdkit.Chem import AllChem\n",
    "from rdkit.Chem import DataStructs\n",
    "from sklearn.model_selection import train_test_split, GridSearchCV\n",
    "from sklearn.ensemble import RandomForestClassifier\n",
    "from sklearn.metrics import accuracy_score, classification_report, roc_curve, auc\n",
    "\n",
    "# Load data\n",
    "pd.set_option('display.max_columns', None)\n",
    "data_path = \"ACE-2.csv\"  # Change this to your CSV file path\n",
    "df = pd.read_csv(data_path, sep=';')\n",
    "\n",
    "# Filter the data by activity type (IC50)\n",
    "activity_type = 'IC50'\n",
    "relevant_columns = ['Molecule ChEMBL ID', 'Molecule Name', 'Molecular Weight', '#RO5 Violations', 'Smiles',\n",
    "                   'Standard Value', 'Standard Units', 'pChEMBL Value']\n",
    "df = df[(df['Standard Type'] == activity_type) & (df['Standard Relation'].str.contains('='))][relevant_columns]\n",
    "\n",
    "# Drop rows where 'Smiles' is missing or NaN\n",
    "df = df.dropna(subset=['Smiles'])\n",
    "\n",
    "# Convert IC50 values into binary classes (Active/Inactive) using median\n",
    "df['class'] = (df['Standard Value'] <= df['Standard Value'].median()).astype(int)  # Active = 1, Inactive = 0\n",
    "\n",
    "# Split the dataset into training and testing sets\n",
    "df_train, df_test = train_test_split(df, test_size=0.2, random_state=42)\n",
    "\n",
    "# Featurizer function to generate molecular fingerprints\n",
    "def featurizer(df):\n",
    "    X = []\n",
    "    y = []\n",
    "    for i, row in df.iterrows():\n",
    "        mol = Chem.MolFromSmiles(str(row['Smiles']))\n",
    "        if mol is not None:\n",
    "            fp = AllChem.GetMorganFingerprintAsBitVect(mol, 2, nBits=1024)\n",
    "            arr = np.zeros((1,))\n",
    "            DataStructs.ConvertToNumpyArray(fp, arr)\n",
    "            X.append(arr)\n",
    "            y.append(row['class'])  # Use the binary class as the label\n",
    "    return np.array(X), np.array(y)\n",
    "\n",
    "# Featurize training and test data\n",
    "X_train, y_train = featurizer(df_train)\n",
    "X_test, y_test = featurizer(df_test)\n",
    "\n",
    "# Set up hyperparameter grid for tuning\n",
    "param_grid = {\n",
    "    'n_estimators': [100, 200],\n",
    "    'max_depth': [None, 10, 20],\n",
    "    'min_samples_split': [2, 5],\n",
    "    'min_samples_leaf': [1, 2]\n",
    "}\n",
    "\n",
    "# Initialize RandomForestClassifier\n",
    "rf = RandomForestClassifier(random_state=42)\n",
    "\n",
    "# Perform Grid Search for Hyperparameter Tuning\n",
    "grid_search = GridSearchCV(estimator=rf, param_grid=param_grid, cv=3, scoring='accuracy', n_jobs=-1)\n",
    "grid_search.fit(X_train, y_train)\n",
    "\n",
    "# Get the best model from grid search\n",
    "best_model = grid_search.best_estimator_\n",
    "\n",
    "# Evaluate the model on the test set\n",
    "y_prob = best_model.predict_proba(X_test)[:, 1]  # Probability of the positive class\n",
    "\n",
    "# Calculate ROC curve\n",
    "fpr, tpr, thresholds = roc_curve(y_test, y_prob)\n",
    "roc_auc = auc(fpr, tpr)\n",
    "\n",
    "# Plot ROC curve\n",
    "plt.figure()\n",
    "plt.plot(fpr, tpr, color='darkorange', lw=2, label='ROC curve (area = %0.2f)' % roc_auc)\n",
    "plt.plot([0, 1], [0, 1], color='navy', lw=2, linestyle='--')\n",
    "plt.xlim([0.0, 1.0])\n",
    "plt.ylim([0.0, 1.0])\n",
    "plt.xlabel('False Positive Rate')\n",
    "plt.ylabel('True Positive Rate')\n",
    "plt.title('Receiver Operating Characteristic')\n",
    "plt.legend(loc='lower right')\n",
    "plt.show()\n",
    "\n",
    "# Determine the optimal threshold based on ROC curve\n",
    "optimal_idx = np.argmax(tpr - fpr)\n",
    "optimal_threshold = thresholds[optimal_idx]\n",
    "print(f\"Optimal threshold for classification: {optimal_threshold:.2f}\")\n",
    "\n",
    "# Create binary classifications based on the optimal threshold\n",
    "y_pred_binary = (y_prob >= optimal_threshold).astype(int)\n",
    "\n",
    "# Calculate accuracy and other classification metrics using the new threshold\n",
    "accuracy_binary = accuracy_score(y_test, y_pred_binary)\n",
    "print(f\"Accuracy with optimal threshold on the test set: {accuracy_binary:.4f}\")\n",
    "\n",
    "# Print detailed classification report (precision, recall, F1-score) with the optimal threshold\n"
   ]
  },
  {
   "cell_type": "code",
   "execution_count": 2,
   "id": "547e6a65-fd12-4fbb-b309-6766c04821bb",
   "metadata": {},
   "outputs": [],
   "source": [
    "import pickle\n",
    "\n",
    "# Save the best model to a pickle file\n",
    "with open('ace2_model.pkl', 'wb') as file:\n",
    "    pickle.dump(best_model, file)\n"
   ]
  },
  {
   "cell_type": "code",
   "execution_count": 1,
   "id": "d0365e1f-acd9-469e-bdd7-4e1d8be79ce2",
   "metadata": {},
   "outputs": [
    {
     "name": "stdout",
     "output_type": "stream",
     "text": [
      "                                              Smiles  Predicted Class  \\\n",
      "0  C(C(=O)NCC(C(=O)O)C(=O)N)C(C(=O)O)C(C(=O)O)C(=O)N                0   \n",
      "\n",
      "   Probability Active  \n",
      "0                0.28  \n"
     ]
    }
   ],
   "source": [
    "import pandas as pd\n",
    "import numpy as np\n",
    "from rdkit import Chem\n",
    "from rdkit.Chem import AllChem\n",
    "from rdkit.Chem import DataStructs\n",
    "import pickle\n",
    "\n",
    "# Load the saved model\n",
    "model_path = 'ace2_model.pkl'  # Path to your saved model\n",
    "with open(model_path, 'rb') as file:\n",
    "    model = pickle.load(file)\n",
    "\n",
    "# Function to featurize SMILES strings\n",
    "def featurizer(smiles_list):\n",
    "    X = []\n",
    "    for smiles in smiles_list:\n",
    "        mol = Chem.MolFromSmiles(smiles)\n",
    "        if mol is not None:\n",
    "            fp = AllChem.GetMorganFingerprintAsBitVect(mol, 2, nBits=1024)\n",
    "            arr = np.zeros((1,))\n",
    "            DataStructs.ConvertToNumpyArray(fp, arr)\n",
    "            X.append(arr)\n",
    "        else:\n",
    "            print(f\"Invalid SMILES string: {smiles}\")\n",
    "            X.append(np.zeros(1024))  # Handle invalid SMILES by appending zeros\n",
    "    return np.array(X)\n",
    "\n",
    "# Input data: Replace these with new SMILES strings\n",
    "new_data = pd.DataFrame({\n",
    "    'Smiles': ['C(C(=O)NCC(C(=O)O)C(=O)N)C(C(=O)O)C(C(=O)O)C(=O)N']  # CCCCCC1=CC2=C(C3C=C(CCC3C(O2)(C)C)C)C(=C1)O\n",
    "})\n",
    "\n",
    "# Featurize the SMILES strings\n",
    "X_new = featurizer(new_data['Smiles'])\n",
    "\n",
    "# Get predicted probabilities\n",
    "y_prob_new = model.predict_proba(X_new)[:, 1]  # Probability of the active class\n",
    "\n",
    "# Set threshold (you can adjust this based on your previous optimal threshold)\n",
    "threshold = 0.5\n",
    "y_pred_new = (y_prob_new >= threshold).astype(int)\n",
    "\n",
    "# Add predictions to the dataframe\n",
    "new_data['Predicted Class'] = y_pred_new\n",
    "new_data['Probability Active'] = y_prob_new\n",
    "\n",
    "# Output the predictions\n",
    "print(new_data)\n"
   ]
  },
  {
   "cell_type": "code",
   "execution_count": null,
   "id": "bdbaa4f9-162a-40af-bf9f-b5987fd00895",
   "metadata": {},
   "outputs": [],
   "source": []
  }
 ],
 "metadata": {
  "kernelspec": {
   "display_name": "Python 3 (ipykernel)",
   "language": "python",
   "name": "python3"
  },
  "language_info": {
   "codemirror_mode": {
    "name": "ipython",
    "version": 3
   },
   "file_extension": ".py",
   "mimetype": "text/x-python",
   "name": "python",
   "nbconvert_exporter": "python",
   "pygments_lexer": "ipython3",
   "version": "3.10.14"
  }
 },
 "nbformat": 4,
 "nbformat_minor": 5
}
