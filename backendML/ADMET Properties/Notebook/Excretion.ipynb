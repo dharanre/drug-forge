{
 "cells": [
  {
   "cell_type": "markdown",
   "id": "208374b2-2ca8-4eb9-a4c2-fc0950a1d308",
   "metadata": {},
   "source": [
    "### EXCRETION - HALF LIFE"
   ]
  },
  {
   "cell_type": "code",
   "execution_count": 7,
   "id": "27e0c154-bd43-4631-9577-0e0535712558",
   "metadata": {},
   "outputs": [],
   "source": [
    "import numpy as np\n",
    "from sklearn.ensemble import RandomForestRegressor\n",
    "from sklearn.metrics import mean_squared_error, mean_absolute_error, r2_score\n",
    "from rdkit import Chem\n",
    "from rdkit.Chem import AllChem\n",
    "from tdc.single_pred.adme import ADME\n",
    "from tdc import Evaluator\n",
    "import pandas as pd\n",
    "import matplotlib.pyplot as plt\n",
    "import seaborn as sns\n",
    "import pickle\n",
    "from sklearn.model_selection import train_test_split\n",
    "from time import time"
   ]
  },
  {
   "cell_type": "code",
   "execution_count": 2,
   "id": "92caad33-3141-4015-af2b-c7685b09ff73",
   "metadata": {},
   "outputs": [
    {
     "name": "stdout",
     "output_type": "stream",
     "text": [
      "Requirement already satisfied: scikit-learn-intelex in c:\\users\\ssanj\\miniconda3\\envs\\mldd24\\lib\\site-packages (2024.7.0)\n",
      "Requirement already satisfied: daal4py==2024.7.0 in c:\\users\\ssanj\\miniconda3\\envs\\mldd24\\lib\\site-packages (from scikit-learn-intelex) (2024.7.0)\n",
      "Requirement already satisfied: scikit-learn>=0.22 in c:\\users\\ssanj\\miniconda3\\envs\\mldd24\\lib\\site-packages (from scikit-learn-intelex) (1.5.2)\n",
      "Requirement already satisfied: daal==2024.7.0 in c:\\users\\ssanj\\miniconda3\\envs\\mldd24\\lib\\site-packages (from daal4py==2024.7.0->scikit-learn-intelex) (2024.7.0)\n",
      "Requirement already satisfied: numpy>=1.19 in c:\\users\\ssanj\\miniconda3\\envs\\mldd24\\lib\\site-packages (from daal4py==2024.7.0->scikit-learn-intelex) (1.26.4)\n",
      "Requirement already satisfied: tbb==2021.* in c:\\users\\ssanj\\miniconda3\\envs\\mldd24\\lib\\site-packages (from daal==2024.7.0->daal4py==2024.7.0->scikit-learn-intelex) (2021.13.1)\n",
      "Requirement already satisfied: scipy>=1.6.0 in c:\\users\\ssanj\\miniconda3\\envs\\mldd24\\lib\\site-packages (from scikit-learn>=0.22->scikit-learn-intelex) (1.14.1)\n",
      "Requirement already satisfied: joblib>=1.2.0 in c:\\users\\ssanj\\miniconda3\\envs\\mldd24\\lib\\site-packages (from scikit-learn>=0.22->scikit-learn-intelex) (1.4.2)\n",
      "Requirement already satisfied: threadpoolctl>=3.1.0 in c:\\users\\ssanj\\miniconda3\\envs\\mldd24\\lib\\site-packages (from scikit-learn>=0.22->scikit-learn-intelex) (3.5.0)\n"
     ]
    }
   ],
   "source": [
    "!pip install scikit-learn-intelex"
   ]
  },
  {
   "cell_type": "markdown",
   "id": "10ef5eb8-de02-4b98-8d8e-a9105273b24d",
   "metadata": {},
   "source": [
    "### USING INTEL EXTENSION FOR SCIKIT LEARN"
   ]
  },
  {
   "cell_type": "code",
   "execution_count": 3,
   "id": "8c3631e0-73e7-4441-b1e0-3fa1448b0b95",
   "metadata": {},
   "outputs": [
    {
     "name": "stderr",
     "output_type": "stream",
     "text": [
      "Intel(R) Extension for Scikit-learn* enabled (https://github.com/intel/scikit-learn-intelex)\n"
     ]
    }
   ],
   "source": [
    "from sklearnex import patch_sklearn\n",
    "patch_sklearn()"
   ]
  },
  {
   "cell_type": "code",
   "execution_count": 4,
   "id": "a1f6cb87-df07-431b-bfb6-1eaf12105642",
   "metadata": {},
   "outputs": [],
   "source": [
    "# Featurizer class definition\n",
    "class Featurizer:\n",
    "    def __init__(self, y_column, smiles_col='X', **kwargs):\n",
    "        self.y_column = y_column\n",
    "        self.smiles_col = smiles_col\n",
    "        self.__dict__.update(kwargs)\n",
    "\n",
    "    def __call__(self, df):\n",
    "        raise NotImplementedError()\n",
    "\n",
    "# ECFP Featurizer for molecular fingerprint generation\n",
    "class ECFPFeaturizer(Featurizer):\n",
    "    def __init__(self, y_column, radius=2, length=1024, **kwargs):\n",
    "        self.radius = radius\n",
    "        self.length = length\n",
    "        super().__init__(y_column, **kwargs)\n",
    "\n",
    "    def __call__(self, df):\n",
    "        fingerprints = []\n",
    "        labels = []\n",
    "        for i, row in df.iterrows():\n",
    "            y = row[self.y_column]\n",
    "            smiles = row[self.smiles_col]\n",
    "            mol = Chem.MolFromSmiles(smiles)\n",
    "            fp = AllChem.GetMorganFingerprintAsBitVect(mol, self.radius, nBits=self.length)\n",
    "            fingerprints.append(fp)\n",
    "            labels.append(y)\n",
    "        fingerprints = np.array(fingerprints)\n",
    "        labels = np.array(labels)\n",
    "        return fingerprints, labels\n"
   ]
  },
  {
   "cell_type": "code",
   "execution_count": 6,
   "id": "bc99dc42-bb94-4f7c-bda0-90efc99a96b0",
   "metadata": {},
   "outputs": [],
   "source": [
    "data = pd.read_csv('half_life_obach.csv')\n",
    "\n",
    "# Split the data into features and target variable\n",
    "X = data.drop(columns=['Y'])  # Features\n",
    "y = data['Y']  # Target variable\n",
    "\n",
    "# Split the data into training (70%), validation (15%), and test (15%) sets\n",
    "X_train, X_temp, y_train, y_temp = train_test_split(X, y, test_size=0.3, random_state=42)\n",
    "X_valid, X_test, y_valid, y_test = train_test_split(X_temp, y_temp, test_size=0.5, random_state=42)\n",
    "\n",
    "# Re-add the target variable to the features for each split\n",
    "X_train['Y'] = y_train.values\n",
    "X_valid['Y'] = y_valid.values\n",
    "X_test['Y'] = y_test.values\n",
    "\n",
    "# Featurizer to generate molecular fingerprints\n",
    "featurizer = ECFPFeaturizer(y_column='Y', smiles_col='X')  # Ensure the SMILES column name is correct\n",
    "\n",
    "# Apply featurizer to generate fingerprints\n",
    "X_train_featurized, y_train_featurized = featurizer(X_train)\n",
    "X_valid_featurized, y_valid_featurized = featurizer(X_valid)\n",
    "X_test_featurized, y_test_featurized = featurizer(X_test)"
   ]
  },
  {
   "cell_type": "code",
   "execution_count": 8,
   "id": "8d96cf56-190d-460b-9a5f-5d55fa56cad1",
   "metadata": {},
   "outputs": [],
   "source": [
    "def train(X_train, y_train, X_valid, y_valid):\n",
    "    # Set up parameters for the RandomForestRegressor\n",
    "    params = {\"n_estimators\": 150, \"random_state\": 44, \"n_jobs\": -1}\n",
    "    \n",
    "    # Start the timer\n",
    "    start = time()  \n",
    "    \n",
    "    # Train the model using the Intel® extension for Scikit-learn\n",
    "    model = RandomForestRegressor(**params)\n",
    "    model.fit(X_train, y_train)\n",
    "    \n",
    "    # Calculate training time\n",
    "    train_time = time() - start\n",
    "    \n",
    "    # Make predictions on the validation set\n",
    "    valid_predictions = model.predict(X_valid)\n",
    "    \n",
    "    # Calculate validation metrics\n",
    "    valid_rmse = mean_squared_error(y_valid, valid_predictions, squared=False)\n",
    "    valid_mae = mean_absolute_error(y_valid, valid_predictions)\n",
    "    valid_r2 = r2_score(y_valid, valid_predictions)\n",
    "    \n",
    "    # Print the validation results and training time\n",
    "    print(f'Validation RMSE: {valid_rmse:.4f}, MAE: {valid_mae:.4f}, R2: {valid_r2:.4f}')\n",
    "    print(f\"Intel® extension for Scikit-learn training time: {train_time:.2f} seconds\")\n",
    "    \n",
    "    return model"
   ]
  },
  {
   "cell_type": "code",
   "execution_count": 9,
   "id": "d1b80988-d104-4d53-83c1-a83bbd284aab",
   "metadata": {},
   "outputs": [],
   "source": [
    "def predict(model, X_test):\n",
    "    predictions = model.predict(X_test)\n",
    "    return predictions\n"
   ]
  },
  {
   "cell_type": "code",
   "execution_count": 10,
   "id": "98cd2480-1d2d-48d4-86a5-8cce26bf3182",
   "metadata": {},
   "outputs": [
    {
     "name": "stdout",
     "output_type": "stream",
     "text": [
      "Validation RMSE: 44.4596, MAE: 15.0276, R2: -6.1803\n",
      "Intel® extension for Scikit-learn training time: 1.28 seconds\n",
      "RMSE: 118.7920774330499, MAE: 35.003840561056116, R2: 0.25174990265947894\n"
     ]
    }
   ],
   "source": [
    "# Train model\n",
    "model = train(X_train_featurized, y_train_featurized, X_valid_featurized, y_valid_featurized)\n",
    "\n",
    "# Make predictions on the test set\n",
    "predictions = predict(model, X_test_featurized)\n",
    "\n",
    "# Evaluate predictions\n",
    "rmse = mean_squared_error(y_test_featurized, predictions, squared=False)\n",
    "mae = mean_absolute_error(y_test_featurized, predictions)\n",
    "r2 = r2_score(y_test_featurized, predictions)\n",
    "\n",
    "print(f'RMSE: {rmse}, MAE: {mae}, R2: {r2}')\n"
   ]
  },
  {
   "cell_type": "markdown",
   "id": "edd27620-5fe5-4848-883d-ca92535b9da7",
   "metadata": {},
   "source": [
    "### WITHOUT USING INTEL ONEAPI EXTENSION FOR SCIKIT LEARN"
   ]
  },
  {
   "cell_type": "code",
   "execution_count": 11,
   "id": "fbdf8ac0-a309-4a6c-894e-6916350d3d42",
   "metadata": {},
   "outputs": [],
   "source": [
    "from sklearnex import unpatch_sklearn\n",
    "\n",
    "unpatch_sklearn()"
   ]
  },
  {
   "cell_type": "code",
   "execution_count": 14,
   "id": "69e5399b-6655-45b4-a600-b8b291a3faa8",
   "metadata": {},
   "outputs": [],
   "source": [
    "def train(X_train, y_train, X_valid, y_valid):\n",
    "    # Set up parameters for the RandomForestRegressor\n",
    "    params = {\"n_estimators\": 150, \"random_state\": 44, \"n_jobs\": -1}\n",
    "    \n",
    "    # Start the timer\n",
    "    start = time()  \n",
    "    \n",
    "    # Train the model using the Intel® extension for Scikit-learn\n",
    "    model = RandomForestRegressor(**params)\n",
    "    model.fit(X_train, y_train)\n",
    "    \n",
    "    # Calculate training time\n",
    "    train_time = time() - start\n",
    "    \n",
    "    # Make predictions on the validation set\n",
    "    valid_predictions = model.predict(X_valid)\n",
    "    \n",
    "    # Calculate validation metrics\n",
    "    valid_rmse = mean_squared_error(y_valid, valid_predictions, squared=False)\n",
    "    valid_mae = mean_absolute_error(y_valid, valid_predictions)\n",
    "    valid_r2 = r2_score(y_valid, valid_predictions)\n",
    "    \n",
    "    # Print the validation results and training time\n",
    "    print(f'Validation RMSE: {valid_rmse:.4f}, MAE: {valid_mae:.4f}, R2: {valid_r2:.4f}')\n",
    "    print(f\"Intel® extension for Scikit-learn training time: {train_time:.2f} seconds\")\n",
    "    \n",
    "    return model"
   ]
  },
  {
   "cell_type": "code",
   "execution_count": 13,
   "id": "25d0c485-18ea-48dc-8e52-2db7fea04f3c",
   "metadata": {},
   "outputs": [
    {
     "name": "stdout",
     "output_type": "stream",
     "text": [
      "Validation RMSE: 44.4596, MAE: 15.0276, R2: -6.1803\n",
      "Intel® extension for Scikit-learn training time: 6.22 seconds\n",
      "RMSE: 118.7920774330499, MAE: 35.003840561056116, R2: 0.25174990265947894\n"
     ]
    }
   ],
   "source": [
    "# Train model\n",
    "model = train(X_train_featurized, y_train_featurized, X_valid_featurized, y_valid_featurized)\n",
    "\n",
    "# Make predictions on the test set\n",
    "predictions = predict(model, X_test_featurized)\n",
    "\n",
    "# Evaluate predictions\n",
    "rmse = mean_squared_error(y_test_featurized, predictions, squared=False)\n",
    "mae = mean_absolute_error(y_test_featurized, predictions)\n",
    "r2 = r2_score(y_test_featurized, predictions)\n",
    "\n",
    "print(f'RMSE: {rmse}, MAE: {mae}, R2: {r2}')\n"
   ]
  },
  {
   "cell_type": "code",
   "execution_count": null,
   "id": "1e051fb3-cae7-446b-9268-6ff3376af35b",
   "metadata": {},
   "outputs": [],
   "source": []
  },
  {
   "cell_type": "markdown",
   "id": "5434cfcb-ce66-4397-b524-24272b2230a0",
   "metadata": {},
   "source": [
    "### SAVING THE MODEL"
   ]
  },
  {
   "cell_type": "code",
   "execution_count": 15,
   "id": "ba31ec6b-c2c9-4cf2-9a9f-fabaa1d089ce",
   "metadata": {},
   "outputs": [],
   "source": [
    "# Save the trained model as a pickle file\n",
    "with open('Excretion_model.pkl', 'wb') as f:\n",
    "    pickle.dump(model, f)\n"
   ]
  },
  {
   "cell_type": "code",
   "execution_count": 16,
   "id": "2a13d374-1c04-4efc-94ef-e166ee23c8ec",
   "metadata": {},
   "outputs": [],
   "source": [
    "class Pre_Featurizer:\n",
    "    def __init__(self, y_column, smiles_col='Drug', **kwargs):\n",
    "        self.y_column = y_column\n",
    "        self.smiles_col = smiles_col\n",
    "        self.__dict__.update(kwargs)\n",
    "\n",
    "    def __call__(self, df):\n",
    "        raise NotImplementedError()\n",
    "\n",
    "# ECFP Featurizer for molecular fingerprint generation\n",
    "class Pre_ECFPFeaturizer(Pre_Featurizer):\n",
    "    def __init__(self, y_column=None, radius=2, length=1024, **kwargs):\n",
    "        self.radius = radius\n",
    "        self.length = length\n",
    "        super().__init__(y_column, **kwargs)\n",
    "\n",
    "    def __call__(self, df):\n",
    "        fingerprints = []\n",
    "        labels = []\n",
    "        for i, row in df.iterrows():\n",
    "            smiles = row[self.smiles_col]\n",
    "            mol = Chem.MolFromSmiles(smiles)\n",
    "            fp = AllChem.GetMorganFingerprintAsBitVect(mol, self.radius, nBits=self.length)\n",
    "            fingerprints.append(fp)\n",
    "\n",
    "            # Only append labels if y_column is present in the dataframe\n",
    "            if self.y_column and self.y_column in df.columns:\n",
    "                labels.append(row[self.y_column])\n",
    "\n",
    "        fingerprints = np.array(fingerprints)\n",
    "        labels = np.array(labels) if labels else None\n",
    "        return fingerprints, labels"
   ]
  },
  {
   "cell_type": "code",
   "execution_count": 17,
   "id": "f1aae47d-0f35-4d84-a924-35810447b4ec",
   "metadata": {},
   "outputs": [
    {
     "name": "stdout",
     "output_type": "stream",
     "text": [
      "Predicted Half life Value: 23.83733333333333\n"
     ]
    }
   ],
   "source": [
    "# Load the model from pickle file\n",
    "with open('Excretion_model.pkl', 'rb') as f:\n",
    "    model = pickle.load(f)\n",
    "\n",
    "def predict_single_smiles(smiles, model, featurizer):\n",
    "    # Create a dataframe for the single SMILES string (since the featurizer expects a dataframe)\n",
    "    df = pd.DataFrame({featurizer.smiles_col: [smiles]})\n",
    "\n",
    "    # Featurize the SMILES string\n",
    "    X_new, _ = featurizer(df)  # We don't need the labels here, so they can be ignored\n",
    "\n",
    "    # Make prediction (for regression, no need for predict_proba)\n",
    "    prediction_value = model.predict(X_new)[0]  # Predicted solubility value\n",
    "\n",
    "    return prediction_value\n",
    "\n",
    "# Initialize the same featurizer as used during training\n",
    "featurizer = Pre_ECFPFeaturizer()  # No need to pass y_column for prediction\n",
    "smiles_string = \"CCCCCC1=CC2=C(C3C=C(CCC3C(O2)(C)C)C)C(=C1)O\"  # CC(C)CC1=CC=C(C=C1)C(C)C(=O)O\n",
    "\n",
    "# Make predictions for the single SMILES string\n",
    "predicted_value = predict_single_smiles(smiles_string, model, featurizer)\n",
    "\n",
    "print(f'Predicted Half life Value: {predicted_value}')\n",
    "\n"
   ]
  },
  {
   "cell_type": "code",
   "execution_count": null,
   "id": "f1328443-cbe3-484a-8b0b-aa6ff73a8873",
   "metadata": {},
   "outputs": [],
   "source": []
  }
 ],
 "metadata": {
  "kernelspec": {
   "display_name": "Python 3 (ipykernel)",
   "language": "python",
   "name": "python3"
  },
  "language_info": {
   "codemirror_mode": {
    "name": "ipython",
    "version": 3
   },
   "file_extension": ".py",
   "mimetype": "text/x-python",
   "name": "python",
   "nbconvert_exporter": "python",
   "pygments_lexer": "ipython3",
   "version": "3.10.14"
  }
 },
 "nbformat": 4,
 "nbformat_minor": 5
}
