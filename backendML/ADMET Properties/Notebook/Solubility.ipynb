{
 "cells": [
  {
   "cell_type": "markdown",
   "id": "fed1eb55",
   "metadata": {},
   "source": [
    "###  SOLUBILITY"
   ]
  },
  {
   "cell_type": "code",
   "execution_count": 1,
   "id": "63214ce3-c385-4977-8d9b-d355377d8940",
   "metadata": {
    "scrolled": true
   },
   "outputs": [
    {
     "name": "stdout",
     "output_type": "stream",
     "text": [
      "Collecting scikit-learn-intelex\n",
      "  Downloading scikit_learn_intelex-2024.7.0-py310-none-win_amd64.whl.metadata (12 kB)\n",
      "Collecting daal4py==2024.7.0 (from scikit-learn-intelex)\n",
      "  Downloading daal4py-2024.7.0-py310-none-win_amd64.whl.metadata (7.4 kB)\n",
      "Requirement already satisfied: scikit-learn>=0.22 in c:\\users\\ssanj\\miniconda3\\envs\\mldd24\\lib\\site-packages (from scikit-learn-intelex) (1.5.2)\n",
      "Collecting daal==2024.7.0 (from daal4py==2024.7.0->scikit-learn-intelex)\n",
      "  Downloading daal-2024.7.0-py2.py3-none-win_amd64.whl.metadata (1.2 kB)\n",
      "Requirement already satisfied: numpy>=1.19 in c:\\users\\ssanj\\miniconda3\\envs\\mldd24\\lib\\site-packages (from daal4py==2024.7.0->scikit-learn-intelex) (1.26.4)\n",
      "Collecting tbb==2021.* (from daal==2024.7.0->daal4py==2024.7.0->scikit-learn-intelex)\n",
      "  Downloading tbb-2021.13.1-py3-none-win_amd64.whl.metadata (1.1 kB)\n",
      "Requirement already satisfied: scipy>=1.6.0 in c:\\users\\ssanj\\miniconda3\\envs\\mldd24\\lib\\site-packages (from scikit-learn>=0.22->scikit-learn-intelex) (1.14.1)\n",
      "Requirement already satisfied: joblib>=1.2.0 in c:\\users\\ssanj\\miniconda3\\envs\\mldd24\\lib\\site-packages (from scikit-learn>=0.22->scikit-learn-intelex) (1.4.2)\n",
      "Requirement already satisfied: threadpoolctl>=3.1.0 in c:\\users\\ssanj\\miniconda3\\envs\\mldd24\\lib\\site-packages (from scikit-learn>=0.22->scikit-learn-intelex) (3.5.0)\n",
      "Downloading scikit_learn_intelex-2024.7.0-py310-none-win_amd64.whl (205 kB)\n",
      "Downloading daal4py-2024.7.0-py310-none-win_amd64.whl (8.5 MB)\n",
      "   ---------------------------------------- 0.0/8.5 MB ? eta -:--:--\n",
      "   ------ --------------------------------- 1.3/8.5 MB 7.4 MB/s eta 0:00:01\n",
      "   -------------------- ------------------- 4.5/8.5 MB 11.7 MB/s eta 0:00:01\n",
      "   ---------------------------------------- 8.5/8.5 MB 14.3 MB/s eta 0:00:00\n",
      "Downloading daal-2024.7.0-py2.py3-none-win_amd64.whl (46.7 MB)\n",
      "   ---------------------------------------- 0.0/46.7 MB ? eta -:--:--\n",
      "   ---- ----------------------------------- 4.7/46.7 MB 22.0 MB/s eta 0:00:02\n",
      "   -------- ------------------------------- 9.4/46.7 MB 22.6 MB/s eta 0:00:02\n",
      "   ----------- ---------------------------- 13.4/46.7 MB 20.5 MB/s eta 0:00:02\n",
      "   --------------- ------------------------ 18.4/46.7 MB 21.5 MB/s eta 0:00:02\n",
      "   ------------------ --------------------- 21.5/46.7 MB 20.3 MB/s eta 0:00:02\n",
      "   -------------------- ------------------- 23.9/46.7 MB 18.9 MB/s eta 0:00:02\n",
      "   ------------------------ --------------- 28.6/46.7 MB 18.9 MB/s eta 0:00:01\n",
      "   --------------------------- ------------ 32.5/46.7 MB 18.8 MB/s eta 0:00:01\n",
      "   ------------------------------- -------- 37.0/46.7 MB 18.9 MB/s eta 0:00:01\n",
      "   ---------------------------------- ----- 40.6/46.7 MB 18.7 MB/s eta 0:00:01\n",
      "   ------------------------------------- -- 44.3/46.7 MB 18.7 MB/s eta 0:00:01\n",
      "   ---------------------------------------- 46.7/46.7 MB 18.1 MB/s eta 0:00:00\n",
      "Downloading tbb-2021.13.1-py3-none-win_amd64.whl (286 kB)\n",
      "Installing collected packages: tbb, daal, daal4py, scikit-learn-intelex\n",
      "Successfully installed daal-2024.7.0 daal4py-2024.7.0 scikit-learn-intelex-2024.7.0 tbb-2021.13.1\n"
     ]
    }
   ],
   "source": [
    "!pip install scikit-learn-intelex"
   ]
  },
  {
   "cell_type": "markdown",
   "id": "6e511768-6572-4a7c-89f0-1f378cd819f5",
   "metadata": {},
   "source": [
    "### USING INTEL EXTENSION FOR SCIKIT LEARN"
   ]
  },
  {
   "cell_type": "code",
   "execution_count": 22,
   "id": "31716231-b297-4e38-b2ba-08218b54aead",
   "metadata": {},
   "outputs": [
    {
     "name": "stderr",
     "output_type": "stream",
     "text": [
      "Intel(R) Extension for Scikit-learn* enabled (https://github.com/intel/scikit-learn-intelex)\n"
     ]
    }
   ],
   "source": [
    "from sklearnex import patch_sklearn\n",
    "patch_sklearn()"
   ]
  },
  {
   "cell_type": "code",
   "execution_count": 23,
   "id": "22697a17-7138-4e03-a573-fc76eb677d11",
   "metadata": {},
   "outputs": [],
   "source": [
    "from time import time"
   ]
  },
  {
   "cell_type": "code",
   "execution_count": 24,
   "id": "91c94375-dc5c-47f4-9feb-3dd45d266bb9",
   "metadata": {},
   "outputs": [],
   "source": [
    "import numpy as np\n",
    "from sklearn.ensemble import RandomForestRegressor\n",
    "from sklearn.metrics import mean_squared_error, mean_absolute_error, r2_score\n",
    "from rdkit import Chem\n",
    "from rdkit.Chem import AllChem\n",
    "from tdc.single_pred.adme import ADME\n",
    "from tdc import Evaluator\n",
    "import pandas as pd\n",
    "import matplotlib.pyplot as plt\n",
    "import seaborn as sns\n",
    "import pickle\n",
    "\n",
    "# Featurizer class definition\n",
    "class Featurizer:\n",
    "    def __init__(self, y_column, smiles_col='Drug', **kwargs):\n",
    "        self.y_column = y_column\n",
    "        self.smiles_col = smiles_col\n",
    "        self.__dict__.update(kwargs)\n",
    "\n",
    "    def __call__(self, df):\n",
    "        raise NotImplementedError()\n",
    "\n",
    "# ECFP Featurizer for molecular fingerprint generation\n",
    "class ECFPFeaturizer(Featurizer):\n",
    "    def __init__(self, y_column, radius=2, length=1024, **kwargs):\n",
    "        self.radius = radius\n",
    "        self.length = length\n",
    "        super().__init__(y_column, **kwargs)\n",
    "\n",
    "    def __call__(self, df):\n",
    "        fingerprints = []\n",
    "        labels = []\n",
    "        for i, row in df.iterrows():\n",
    "            y = row[self.y_column]\n",
    "            smiles = row[self.smiles_col]\n",
    "            mol = Chem.MolFromSmiles(smiles)\n",
    "            fp = AllChem.GetMorganFingerprintAsBitVect(mol, self.radius, nBits=self.length)\n",
    "            fingerprints.append(fp)\n",
    "            labels.append(y)\n",
    "        fingerprints = np.array(fingerprints)\n",
    "        labels = np.array(labels)\n",
    "        return fingerprints, labels\n"
   ]
  },
  {
   "cell_type": "code",
   "execution_count": 25,
   "id": "713f5f47-fd2f-4fce-88ad-8c67043ef9c0",
   "metadata": {},
   "outputs": [
    {
     "name": "stderr",
     "output_type": "stream",
     "text": [
      "Found local copy...\n",
      "Loading...\n",
      "Done!\n"
     ]
    }
   ],
   "source": [
    "# Load data\n",
    "data = ADME('Solubility_AqSolDB')"
   ]
  },
  {
   "cell_type": "code",
   "execution_count": 26,
   "id": "0a5cb626-b3fc-4d5f-b47c-58e6c4058668",
   "metadata": {
    "scrolled": true
   },
   "outputs": [
    {
     "name": "stderr",
     "output_type": "stream",
     "text": [
      "[16:24:41] WARNING: not removing hydrogen atom without neighbors\n",
      "[16:24:41] WARNING: not removing hydrogen atom without neighbors\n",
      "[16:24:41] WARNING: not removing hydrogen atom without neighbors\n",
      "[16:24:42] WARNING: not removing hydrogen atom without neighbors\n",
      "[16:24:42] WARNING: not removing hydrogen atom without neighbors\n",
      "[16:24:42] WARNING: not removing hydrogen atom without neighbors\n",
      "[16:24:42] WARNING: not removing hydrogen atom without neighbors\n",
      "[16:24:42] WARNING: not removing hydrogen atom without neighbors\n",
      "[16:24:42] WARNING: not removing hydrogen atom without neighbors\n",
      "[16:24:42] WARNING: not removing hydrogen atom without neighbors\n",
      "[16:24:42] WARNING: not removing hydrogen atom without neighbors\n",
      "[16:24:42] WARNING: not removing hydrogen atom without neighbors\n",
      "[16:24:42] WARNING: not removing hydrogen atom without neighbors\n",
      "[16:24:42] WARNING: not removing hydrogen atom without neighbors\n",
      "[16:24:42] WARNING: not removing hydrogen atom without neighbors\n",
      "[16:24:42] WARNING: not removing hydrogen atom without neighbors\n",
      "[16:24:42] WARNING: not removing hydrogen atom without neighbors\n",
      "[16:24:42] WARNING: not removing hydrogen atom without neighbors\n",
      "[16:24:43] WARNING: not removing hydrogen atom without neighbors\n",
      "[16:24:43] WARNING: not removing hydrogen atom without neighbors\n",
      "[16:24:43] WARNING: not removing hydrogen atom without neighbors\n",
      "[16:24:43] WARNING: not removing hydrogen atom without neighbors\n",
      "[16:24:43] WARNING: not removing hydrogen atom without neighbors\n",
      "[16:24:43] WARNING: not removing hydrogen atom without neighbors\n",
      "[16:24:43] WARNING: not removing hydrogen atom without neighbors\n",
      "[16:24:43] WARNING: not removing hydrogen atom without neighbors\n",
      "[16:24:43] WARNING: not removing hydrogen atom without neighbors\n",
      "[16:24:43] WARNING: not removing hydrogen atom without neighbors\n",
      "[16:24:43] WARNING: not removing hydrogen atom without neighbors\n",
      "[16:24:43] WARNING: not removing hydrogen atom without neighbors\n",
      "[16:24:43] WARNING: not removing hydrogen atom without neighbors\n",
      "[16:24:43] WARNING: not removing hydrogen atom without neighbors\n",
      "[16:24:43] WARNING: not removing hydrogen atom without neighbors\n",
      "[16:24:43] WARNING: not removing hydrogen atom without neighbors\n",
      "[16:24:43] WARNING: not removing hydrogen atom without neighbors\n",
      "[16:24:43] WARNING: not removing hydrogen atom without neighbors\n",
      "[16:24:43] WARNING: not removing hydrogen atom without neighbors\n",
      "[16:24:44] WARNING: not removing hydrogen atom without neighbors\n",
      "[16:24:44] WARNING: not removing hydrogen atom without neighbors\n",
      "[16:24:44] WARNING: not removing hydrogen atom without neighbors\n",
      "[16:24:44] WARNING: not removing hydrogen atom without neighbors\n",
      "[16:24:44] WARNING: not removing hydrogen atom without neighbors\n",
      "[16:24:55] WARNING: not removing hydrogen atom without neighbors\n",
      "[16:24:55] WARNING: not removing hydrogen atom without neighbors\n",
      "[16:24:55] WARNING: not removing hydrogen atom without neighbors\n",
      "[16:24:55] WARNING: not removing hydrogen atom without neighbors\n",
      "[16:24:55] WARNING: not removing hydrogen atom without neighbors\n",
      "[16:24:55] WARNING: not removing hydrogen atom without neighbors\n",
      "[16:24:57] WARNING: not removing hydrogen atom without neighbors\n",
      "[16:24:57] WARNING: not removing hydrogen atom without neighbors\n",
      "[16:24:57] WARNING: not removing hydrogen atom without neighbors\n",
      "[16:24:57] WARNING: not removing hydrogen atom without neighbors\n",
      "[16:24:57] WARNING: not removing hydrogen atom without neighbors\n",
      "[16:24:57] WARNING: not removing hydrogen atom without neighbors\n",
      "[16:24:57] WARNING: not removing hydrogen atom without neighbors\n",
      "[16:24:58] WARNING: not removing hydrogen atom without neighbors\n",
      "[16:24:58] WARNING: not removing hydrogen atom without neighbors\n",
      "[16:24:58] WARNING: not removing hydrogen atom without neighbors\n",
      "[16:24:58] WARNING: not removing hydrogen atom without neighbors\n",
      "[16:24:58] WARNING: not removing hydrogen atom without neighbors\n",
      "[16:24:58] WARNING: not removing hydrogen atom without neighbors\n",
      "[16:24:58] WARNING: not removing hydrogen atom without neighbors\n",
      "[16:24:58] WARNING: not removing hydrogen atom without neighbors\n",
      "[16:24:58] WARNING: not removing hydrogen atom without neighbors\n",
      "[16:24:58] WARNING: not removing hydrogen atom without neighbors\n"
     ]
    }
   ],
   "source": [
    "split = data.get_split()\n",
    "\n",
    "# Featurize data\n",
    "featurizer = ECFPFeaturizer(y_column='Y')\n",
    "X_train, y_train = featurizer(split['train'])\n",
    "X_valid, y_valid = featurizer(split['valid'])\n",
    "X_test, y_test = featurizer(split['test'])\n"
   ]
  },
  {
   "cell_type": "code",
   "execution_count": 27,
   "id": "e917a601-b49f-4c39-978e-7b585f56f900",
   "metadata": {},
   "outputs": [],
   "source": [
    "train_df = pd.DataFrame(split['train'])\n",
    "valid_df = pd.DataFrame(split['valid'])\n",
    "test_df = pd.DataFrame(split['test'])"
   ]
  },
  {
   "cell_type": "code",
   "execution_count": 28,
   "id": "95900fcf-28e7-41e4-85d3-acb3da3caa00",
   "metadata": {},
   "outputs": [
    {
     "data": {
      "text/html": [
       "<div>\n",
       "<style scoped>\n",
       "    .dataframe tbody tr th:only-of-type {\n",
       "        vertical-align: middle;\n",
       "    }\n",
       "\n",
       "    .dataframe tbody tr th {\n",
       "        vertical-align: top;\n",
       "    }\n",
       "\n",
       "    .dataframe thead th {\n",
       "        text-align: right;\n",
       "    }\n",
       "</style>\n",
       "<table border=\"1\" class=\"dataframe\">\n",
       "  <thead>\n",
       "    <tr style=\"text-align: right;\">\n",
       "      <th></th>\n",
       "      <th>Drug_ID</th>\n",
       "      <th>Drug</th>\n",
       "      <th>Y</th>\n",
       "    </tr>\n",
       "  </thead>\n",
       "  <tbody>\n",
       "    <tr>\n",
       "      <th>0</th>\n",
       "      <td>Benzo[cd]indol-2(1H)-one</td>\n",
       "      <td>O=C1Nc2cccc3cccc1c23</td>\n",
       "      <td>-3.254767</td>\n",
       "    </tr>\n",
       "    <tr>\n",
       "      <th>1</th>\n",
       "      <td>4-chlorobenzaldehyde</td>\n",
       "      <td>O=Cc1ccc(Cl)cc1</td>\n",
       "      <td>-2.177078</td>\n",
       "    </tr>\n",
       "    <tr>\n",
       "      <th>2</th>\n",
       "      <td>4-({4-[bis(oxiran-2-ylmethyl)amino]phenyl}meth...</td>\n",
       "      <td>c1cc(N(CC2CO2)CC2CO2)ccc1Cc1ccc(N(CC2CO2)CC2CO...</td>\n",
       "      <td>-4.662065</td>\n",
       "    </tr>\n",
       "    <tr>\n",
       "      <th>3</th>\n",
       "      <td>vinyltoluene</td>\n",
       "      <td>C=Cc1cccc(C)c1</td>\n",
       "      <td>-3.123150</td>\n",
       "    </tr>\n",
       "    <tr>\n",
       "      <th>4</th>\n",
       "      <td>3-(3-ethylcyclopentyl)propanoic acid</td>\n",
       "      <td>CCC1CCC(CCC(=O)O)C1</td>\n",
       "      <td>-3.286116</td>\n",
       "    </tr>\n",
       "    <tr>\n",
       "      <th>...</th>\n",
       "      <td>...</td>\n",
       "      <td>...</td>\n",
       "      <td>...</td>\n",
       "    </tr>\n",
       "    <tr>\n",
       "      <th>6983</th>\n",
       "      <td>sarafloxacin</td>\n",
       "      <td>O=C(O)c1cn(-c2ccc(F)cc2)c2cc(N3CCNCC3)c(F)cc2c1=O</td>\n",
       "      <td>-3.130000</td>\n",
       "    </tr>\n",
       "    <tr>\n",
       "      <th>6984</th>\n",
       "      <td>sparfloxacin</td>\n",
       "      <td>C[C@H]1CN(c2c(F)c(N)c3c(=O)c(C(=O)O)cn(C4CC4)c...</td>\n",
       "      <td>-3.370000</td>\n",
       "    </tr>\n",
       "    <tr>\n",
       "      <th>6985</th>\n",
       "      <td>sulindac_form_II</td>\n",
       "      <td>CC1=C(CC(=O)O)c2cc(F)ccc2/C1=C/c1ccc(S(C)=O)cc1</td>\n",
       "      <td>-4.500000</td>\n",
       "    </tr>\n",
       "    <tr>\n",
       "      <th>6986</th>\n",
       "      <td>tetracaine</td>\n",
       "      <td>CCCCNc1ccc(C(=O)OCCN(C)C)cc1</td>\n",
       "      <td>-3.010000</td>\n",
       "    </tr>\n",
       "    <tr>\n",
       "      <th>6987</th>\n",
       "      <td>thymol</td>\n",
       "      <td>Cc1ccc(C(C)C)c(O)c1</td>\n",
       "      <td>-2.190000</td>\n",
       "    </tr>\n",
       "  </tbody>\n",
       "</table>\n",
       "<p>6988 rows × 3 columns</p>\n",
       "</div>"
      ],
      "text/plain": [
       "                                                Drug_ID  \\\n",
       "0                              Benzo[cd]indol-2(1H)-one   \n",
       "1                                  4-chlorobenzaldehyde   \n",
       "2     4-({4-[bis(oxiran-2-ylmethyl)amino]phenyl}meth...   \n",
       "3                                          vinyltoluene   \n",
       "4                  3-(3-ethylcyclopentyl)propanoic acid   \n",
       "...                                                 ...   \n",
       "6983                                       sarafloxacin   \n",
       "6984                                       sparfloxacin   \n",
       "6985                                   sulindac_form_II   \n",
       "6986                                         tetracaine   \n",
       "6987                                             thymol   \n",
       "\n",
       "                                                   Drug         Y  \n",
       "0                                  O=C1Nc2cccc3cccc1c23 -3.254767  \n",
       "1                                       O=Cc1ccc(Cl)cc1 -2.177078  \n",
       "2     c1cc(N(CC2CO2)CC2CO2)ccc1Cc1ccc(N(CC2CO2)CC2CO... -4.662065  \n",
       "3                                        C=Cc1cccc(C)c1 -3.123150  \n",
       "4                                   CCC1CCC(CCC(=O)O)C1 -3.286116  \n",
       "...                                                 ...       ...  \n",
       "6983  O=C(O)c1cn(-c2ccc(F)cc2)c2cc(N3CCNCC3)c(F)cc2c1=O -3.130000  \n",
       "6984  C[C@H]1CN(c2c(F)c(N)c3c(=O)c(C(=O)O)cn(C4CC4)c... -3.370000  \n",
       "6985    CC1=C(CC(=O)O)c2cc(F)ccc2/C1=C/c1ccc(S(C)=O)cc1 -4.500000  \n",
       "6986                       CCCCNc1ccc(C(=O)OCCN(C)C)cc1 -3.010000  \n",
       "6987                                Cc1ccc(C(C)C)c(O)c1 -2.190000  \n",
       "\n",
       "[6988 rows x 3 columns]"
      ]
     },
     "execution_count": 28,
     "metadata": {},
     "output_type": "execute_result"
    }
   ],
   "source": [
    "train_df"
   ]
  },
  {
   "cell_type": "code",
   "execution_count": 29,
   "id": "945632f9-99e8-42eb-9cdd-702b41493b9b",
   "metadata": {
    "scrolled": true
   },
   "outputs": [
    {
     "data": {
      "image/png": "[encoded data removed]",
      "text/plain": [
       "<Figure size 640x480 with 1 Axes>"
      ]
     },
     "metadata": {},
     "output_type": "display_data"
    }
   ],
   "source": [
    "sns.histplot(train_df['Y'], kde=True)\n",
    "plt.title('Distribution of Solubility Values')\n",
    "plt.xlabel('Solubility')\n",
    "plt.ylabel('Frequency')\n",
    "plt.show()"
   ]
  },
  {
   "cell_type": "code",
   "execution_count": 30,
   "id": "050ebd10-2b98-4d3f-98df-779e16925d3c",
   "metadata": {},
   "outputs": [
    {
     "name": "stdout",
     "output_type": "stream",
     "text": [
      "                 Y\n",
      "count  6988.000000\n",
      "mean     -2.862946\n",
      "std       2.387322\n",
      "min     -13.171900\n",
      "25%      -4.280085\n",
      "50%      -2.591850\n",
      "75%      -1.155815\n",
      "max       2.137682\n"
     ]
    }
   ],
   "source": [
    "print(train_df.describe())"
   ]
  },
  {
   "cell_type": "code",
   "execution_count": 31,
   "id": "2c54dc7d-c844-40c3-a744-4b42f0c0b19c",
   "metadata": {},
   "outputs": [],
   "source": [
    "def train(X_train, y_train, X_valid, y_valid):\n",
    "    params = {\"n_estimators\": 150, \"random_state\": 44, \"n_jobs\": -1}\n",
    "    \n",
    "    start = time()  \n",
    "    \n",
    "    model = RandomForestRegressor(**params)\n",
    "    model.fit(X_train, y_train)\n",
    "    \n",
    "    train_time = time() - start\n",
    "    \n",
    "    valid_predictions = model.predict(X_valid)\n",
    "    \n",
    "    valid_rmse = mean_squared_error(y_valid, valid_predictions, squared=False)\n",
    "    valid_mae = mean_absolute_error(y_valid, valid_predictions)\n",
    "    valid_r2 = r2_score(y_valid, valid_predictions)\n",
    "    \n",
    "    print(f'Validation RMSE: {valid_rmse}, MAE: {valid_mae}, R2: {valid_r2}')\n",
    "    print(f\"Intel® extension for Scikit-learn time: {train_time:.2f} s\")\n",
    "    \n",
    "    return model"
   ]
  },
  {
   "cell_type": "code",
   "execution_count": 32,
   "id": "0a939427-cfb7-4a8f-8ff8-55a90da46917",
   "metadata": {},
   "outputs": [],
   "source": [
    "def predict(model, X_test):\n",
    "    predictions = model.predict(X_test)\n",
    "    return predictions\n"
   ]
  },
  {
   "cell_type": "code",
   "execution_count": 33,
   "id": "4a92f963-53e2-4523-bbe1-4b61036700c7",
   "metadata": {},
   "outputs": [
    {
     "name": "stdout",
     "output_type": "stream",
     "text": [
      "Validation RMSE: 1.404638773161333, MAE: 1.005122259160314, R2: 0.6282097685576374\n",
      "Intel® extension for Scikit-learn time: 44.76 s\n",
      "RMSE: 1.3445198796483075, MAE: 0.9833048091400252, R2: 0.6668808816239422\n"
     ]
    }
   ],
   "source": [
    "# Train model\n",
    "model = train(X_train, y_train, X_valid, y_valid)\n",
    "\n",
    "# Make predictions on the test set\n",
    "predictions = predict(model, X_test)\n",
    "\n",
    "# Evaluate predictions\n",
    "rmse = mean_squared_error(y_test, predictions, squared=False)\n",
    "mae = mean_absolute_error(y_test, predictions)\n",
    "r2 = r2_score(y_test, predictions)\n",
    "\n",
    "print(f'RMSE: {rmse}, MAE: {mae}, R2: {r2}')\n"
   ]
  },
  {
   "cell_type": "markdown",
   "id": "e6841470-380e-4217-a34b-5ab6b71dfe9f",
   "metadata": {},
   "source": [
    "### WITHOUT USING INTEL ONEAPI EXTENSION FOR SCIKIT LEARN"
   ]
  },
  {
   "cell_type": "code",
   "execution_count": 34,
   "id": "c9aa242e-a9d0-4552-a49e-29580df9a340",
   "metadata": {},
   "outputs": [],
   "source": [
    "from sklearnex import unpatch_sklearn\n",
    "\n",
    "unpatch_sklearn()"
   ]
  },
  {
   "cell_type": "code",
   "execution_count": 42,
   "id": "1cbe67dc-ed57-41b1-889c-037414cda907",
   "metadata": {},
   "outputs": [],
   "source": [
    "def train(X_train, y_train, X_valid, y_valid):\n",
    "    params = {\"n_estimators\": 150, \"random_state\": 44, \"n_jobs\": -1}\n",
    "    \n",
    "    start = time()  \n",
    "    \n",
    "    model = RandomForestRegressor(**params)\n",
    "    model.fit(X_train, y_train)\n",
    "    \n",
    "    train_time = time() - start \n",
    "    \n",
    "    valid_predictions = model.predict(X_valid)\n",
    "    \n",
    "    valid_rmse = mean_squared_error(y_valid, valid_predictions, squared=False)\n",
    "    valid_mae = mean_absolute_error(y_valid, valid_predictions)\n",
    "    valid_r2 = r2_score(y_valid, valid_predictions)\n",
    "    \n",
    "    print(f'Validation RMSE: {valid_rmse}, MAE: {valid_mae}, R2: {valid_r2}')\n",
    "    print(f\"Without Intel® extension for Scikit-learn time: {train_time:.2f} s\")\n",
    "    \n",
    "    return model"
   ]
  },
  {
   "cell_type": "code",
   "execution_count": 41,
   "id": "0159dc0d-9cd6-4407-bec7-bd086532c9fc",
   "metadata": {},
   "outputs": [
    {
     "name": "stdout",
     "output_type": "stream",
     "text": [
      "Validation RMSE: 1.404638773161333, MAE: 1.005122259160314, R2: 0.6282097685576374\n",
      "Without Intel® extension for Scikit-learn time: 78.94 s\n",
      "RMSE: 1.3445198796483075, MAE: 0.9833048091400252, R2: 0.6668808816239422\n"
     ]
    }
   ],
   "source": [
    "model = train(X_train, y_train, X_valid, y_valid)\n",
    "\n",
    "# Make predictions on the test set\n",
    "predictions = predict(model, X_test)\n",
    "\n",
    "# Evaluate predictions\n",
    "rmse = mean_squared_error(y_test, predictions, squared=False)\n",
    "mae = mean_absolute_error(y_test, predictions)\n",
    "r2 = r2_score(y_test, predictions)\n",
    "\n",
    "print(f'RMSE: {rmse}, MAE: {mae}, R2: {r2}')"
   ]
  },
  {
   "cell_type": "code",
   "execution_count": null,
   "id": "b0e1096a-caa2-4caf-bca0-624d08a80012",
   "metadata": {},
   "outputs": [],
   "source": []
  },
  {
   "cell_type": "markdown",
   "id": "fbb4ea82-c8ae-4db4-b424-57377ddf59ba",
   "metadata": {},
   "source": [
    "### SAVING THE MODEL"
   ]
  },
  {
   "cell_type": "code",
   "execution_count": 43,
   "id": "96d10b8f-871b-42b6-84c1-8ecc344090f6",
   "metadata": {},
   "outputs": [
    {
     "name": "stdout",
     "output_type": "stream",
     "text": [
      "Model saved as solubility_model.pkl\n"
     ]
    }
   ],
   "source": [
    "# Save the trained model as a pickle file\n",
    "with open('solubility_model.pkl', 'wb') as f:\n",
    "    pickle.dump(model, f)\n",
    "\n",
    "print(\"Model saved as solubility_model.pkl\")\n"
   ]
  },
  {
   "cell_type": "code",
   "execution_count": 44,
   "id": "aff8d45c-86f4-4512-adaa-fa063edd29fa",
   "metadata": {},
   "outputs": [],
   "source": [
    "class Pre_Featurizer:\n",
    "    def __init__(self, y_column, smiles_col='Drug', **kwargs):\n",
    "        self.y_column = y_column\n",
    "        self.smiles_col = smiles_col\n",
    "        self.__dict__.update(kwargs)\n",
    "\n",
    "    def __call__(self, df):\n",
    "        raise NotImplementedError()\n",
    "\n",
    "# ECFP Featurizer for molecular fingerprint generation\n",
    "class Pre_ECFPFeaturizer(Pre_Featurizer):\n",
    "    def __init__(self, y_column=None, radius=2, length=1024, **kwargs):\n",
    "        self.radius = radius\n",
    "        self.length = length\n",
    "        super().__init__(y_column, **kwargs)\n",
    "\n",
    "    def __call__(self, df):\n",
    "        fingerprints = []\n",
    "        labels = []\n",
    "        for i, row in df.iterrows():\n",
    "            smiles = row[self.smiles_col]\n",
    "            mol = Chem.MolFromSmiles(smiles)\n",
    "            fp = AllChem.GetMorganFingerprintAsBitVect(mol, self.radius, nBits=self.length)\n",
    "            fingerprints.append(fp)\n",
    "\n",
    "            # Only append labels if y_column is present in the dataframe\n",
    "            if self.y_column and self.y_column in df.columns:\n",
    "                labels.append(row[self.y_column])\n",
    "\n",
    "        fingerprints = np.array(fingerprints)\n",
    "        labels = np.array(labels) if labels else None\n",
    "        return fingerprints, labels"
   ]
  },
  {
   "cell_type": "code",
   "execution_count": 69,
   "id": "17a65b08-f7b7-41ac-af4e-218968be02f0",
   "metadata": {},
   "outputs": [
    {
     "name": "stdout",
     "output_type": "stream",
     "text": [
      "Predicted Solubility Value: -4.385753905076\n"
     ]
    }
   ],
   "source": [
    "# Load the model from pickle file\n",
    "with open('solubility_model.pkl', 'rb') as f:\n",
    "    model = pickle.load(f)\n",
    "\n",
    "def predict_single_smiles(smiles, model, featurizer):\n",
    "    # Create a dataframe for the single SMILES string (since the featurizer expects a dataframe)\n",
    "    df = pd.DataFrame({featurizer.smiles_col: [smiles]})\n",
    "\n",
    "    # Featurize the SMILES string\n",
    "    X_new, _ = featurizer(df)  # We don't need the labels here, so they can be ignored\n",
    "\n",
    "    # Make prediction (for regression, no need for predict_proba)\n",
    "    prediction_value = model.predict(X_new)[0]  # Predicted solubility value\n",
    "\n",
    "    return prediction_value\n",
    "\n",
    "# Initialize the same featurizer as used during training\n",
    "featurizer = Pre_ECFPFeaturizer()  # No need to pass y_column for prediction\n",
    "smiles_string = \"CCCCCC1=CC2=C(C3C=C(CCC3C(O2)(C)C)C)C(=C1)O\"  #  CC(C)CC1=CC=C(C=C1)C(C)C(=O)O     \n",
    "\n",
    "# Make predictions for the single SMILES string\n",
    "predicted_value = predict_single_smiles(smiles_string, model, featurizer)\n",
    "\n",
    "print(f'Predicted Solubility Value: {predicted_value}')\n",
    "\n"
   ]
  },
  {
   "cell_type": "code",
   "execution_count": null,
   "id": "54410775-5aad-463c-815a-9c698de8328f",
   "metadata": {},
   "outputs": [],
   "source": []
  }
 ],
 "metadata": {
  "kernelspec": {
   "display_name": "Python 3 (ipykernel)",
   "language": "python",
   "name": "python3"
  },
  "language_info": {
   "codemirror_mode": {
    "name": "ipython",
    "version": 3
   },
   "file_extension": ".py",
   "mimetype": "text/x-python",
   "name": "python",
   "nbconvert_exporter": "python",
   "pygments_lexer": "ipython3",
   "version": "3.10.14"
  }
 },
 "nbformat": 4,
 "nbformat_minor": 5
}
