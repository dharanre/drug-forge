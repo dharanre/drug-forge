{
 "cells": [
  {
   "cell_type": "markdown",
   "id": "cce16cba-33ee-4a3b-87c6-fa82e5748d43",
   "metadata": {},
   "source": [
    "### TOXICITY"
   ]
  },
  {
   "cell_type": "code",
   "execution_count": 24,
   "id": "02fc6537-ea67-4980-8e7f-3ac091c2a096",
   "metadata": {},
   "outputs": [],
   "source": [
    "import numpy as np\n",
    "from sklearn.ensemble import RandomForestClassifier\n",
    "from sklearn.metrics import roc_auc_score, accuracy_score\n",
    "from tdc.single_pred.adme import ADME\n",
    "from tdc import Evaluator\n",
    "from rdkit import Chem\n",
    "from rdkit.Chem import AllChem\n",
    "import pickle\n",
    "import pandas as pd\n",
    "from sklearn.model_selection import train_test_split"
   ]
  },
  {
   "cell_type": "code",
   "execution_count": 1,
   "id": "71ef5652-0d22-4008-8d26-4b3ca9c696c5",
   "metadata": {},
   "outputs": [
    {
     "name": "stdout",
     "output_type": "stream",
     "text": [
      "Requirement already satisfied: scikit-learn-intelex in c:\\users\\ssanj\\miniconda3\\envs\\mldd24\\lib\\site-packages (2024.7.0)\n",
      "Requirement already satisfied: daal4py==2024.7.0 in c:\\users\\ssanj\\miniconda3\\envs\\mldd24\\lib\\site-packages (from scikit-learn-intelex) (2024.7.0)\n",
      "Requirement already satisfied: scikit-learn>=0.22 in c:\\users\\ssanj\\miniconda3\\envs\\mldd24\\lib\\site-packages (from scikit-learn-intelex) (1.5.2)\n",
      "Requirement already satisfied: daal==2024.7.0 in c:\\users\\ssanj\\miniconda3\\envs\\mldd24\\lib\\site-packages (from daal4py==2024.7.0->scikit-learn-intelex) (2024.7.0)\n",
      "Requirement already satisfied: numpy>=1.19 in c:\\users\\ssanj\\miniconda3\\envs\\mldd24\\lib\\site-packages (from daal4py==2024.7.0->scikit-learn-intelex) (1.26.4)\n",
      "Requirement already satisfied: tbb==2021.* in c:\\users\\ssanj\\miniconda3\\envs\\mldd24\\lib\\site-packages (from daal==2024.7.0->daal4py==2024.7.0->scikit-learn-intelex) (2021.13.1)\n",
      "Requirement already satisfied: scipy>=1.6.0 in c:\\users\\ssanj\\miniconda3\\envs\\mldd24\\lib\\site-packages (from scikit-learn>=0.22->scikit-learn-intelex) (1.14.1)\n",
      "Requirement already satisfied: joblib>=1.2.0 in c:\\users\\ssanj\\miniconda3\\envs\\mldd24\\lib\\site-packages (from scikit-learn>=0.22->scikit-learn-intelex) (1.4.2)\n",
      "Requirement already satisfied: threadpoolctl>=3.1.0 in c:\\users\\ssanj\\miniconda3\\envs\\mldd24\\lib\\site-packages (from scikit-learn>=0.22->scikit-learn-intelex) (3.5.0)\n"
     ]
    }
   ],
   "source": [
    "!pip install scikit-learn-intelex"
   ]
  },
  {
   "cell_type": "markdown",
   "id": "1ac5b74d-01bd-4500-94fb-9490b3c6c56f",
   "metadata": {},
   "source": [
    "### USING INTEL EXTENSION FOR SCIKIT LEARN"
   ]
  },
  {
   "cell_type": "code",
   "execution_count": 2,
   "id": "a519338d-5a40-4a95-92ad-6f8f3c51ff13",
   "metadata": {},
   "outputs": [
    {
     "name": "stderr",
     "output_type": "stream",
     "text": [
      "Intel(R) Extension for Scikit-learn* enabled (https://github.com/intel/scikit-learn-intelex)\n"
     ]
    }
   ],
   "source": [
    "from sklearnex import patch_sklearn\n",
    "patch_sklearn()"
   ]
  },
  {
   "cell_type": "code",
   "execution_count": 9,
   "id": "f114499e-0f72-465b-870d-fc2dd8918965",
   "metadata": {},
   "outputs": [],
   "source": [
    "from time import time"
   ]
  },
  {
   "cell_type": "code",
   "execution_count": 4,
   "id": "9661b1e9-0c4f-4931-9b3e-5b99abe5855c",
   "metadata": {},
   "outputs": [],
   "source": [
    "class Featurizer:\n",
    "    def __init__(self, y_column, smiles_col='Drug', **kwargs):\n",
    "        self.y_column = y_column\n",
    "        self.smiles_col = smiles_col\n",
    "        self.__dict__.update(kwargs)\n",
    "\n",
    "    def __call__(self, df):\n",
    "        raise NotImplementedError()\n",
    "\n",
    "class ECFPFeaturizer(Featurizer):\n",
    "    def __init__(self, y_column, radius=2, length=1024, **kwargs):\n",
    "        self.radius = radius\n",
    "        self.length = length\n",
    "        super().__init__(y_column, **kwargs)\n",
    "\n",
    "    def __call__(self, df):\n",
    "        fingerprints = []\n",
    "        labels = []\n",
    "        for i, row in df.iterrows():\n",
    "            y = row[self.y_column]\n",
    "            smiles = row[self.smiles_col]\n",
    "            mol = Chem.MolFromSmiles(smiles)\n",
    "            fp = AllChem.GetMorganFingerprintAsBitVect(mol, self.radius, nBits=self.length)\n",
    "            fingerprints.append(fp)\n",
    "            labels.append(y)\n",
    "        fingerprints = np.array(fingerprints)\n",
    "        labels = np.array(labels)\n",
    "        return fingerprints, labels\n"
   ]
  },
  {
   "cell_type": "code",
   "execution_count": 13,
   "id": "e9c0e60c-b5d0-4906-8794-f1ffe6c4e920",
   "metadata": {},
   "outputs": [],
   "source": [
    "def train(X_train, y_train, X_valid, y_valid):\n",
    "    # Model parameters\n",
    "    params = {\"n_estimators\": 150, \"random_state\": 44, \"n_jobs\": -1}\n",
    "    \n",
    "    # Start the timer\n",
    "    start_time = time()\n",
    "    \n",
    "    # Initialize and train the RandomForestClassifier model\n",
    "    model = RandomForestClassifier(**params)\n",
    "    model.fit(X_train, y_train)\n",
    "    \n",
    "    # Calculate training time\n",
    "    train_time = time() - start_time\n",
    "    \n",
    "    # Make predictions on the validation set\n",
    "    val_predictions_proba = model.predict_proba(X_valid)[:, 1]  # Probability for class 1\n",
    "    val_preds_class = model.predict(X_valid)  # Predicted class labels\n",
    "    \n",
    "    # Compute metrics\n",
    "    auc_val = roc_auc_score(y_valid, val_predictions_proba)\n",
    "    \n",
    "    # Print validation metrics and training time\n",
    "    print(f'Validation Accuracy: {auc_val:.4f}')\n",
    "    print(f\"Intel® extension for Scikit-learn training time: {train_time:.2f} s\")\n",
    "    \n",
    "    return model"
   ]
  },
  {
   "cell_type": "code",
   "execution_count": 14,
   "id": "40a117bb-51d5-4704-ab36-2a7615206ac8",
   "metadata": {},
   "outputs": [],
   "source": [
    "def predict(model, X_test):\n",
    "    test_predictions_proba = model.predict_proba(X_test)[:, 1]  # Probability for class 1\n",
    "    test_predictions_class = model.predict(X_test)  # Predicted class labels\n",
    "    return test_predictions_proba, test_predictions_class\n"
   ]
  },
  {
   "cell_type": "code",
   "execution_count": 15,
   "id": "b9b0b088-9623-4b5c-a65e-982289d2d55f",
   "metadata": {},
   "outputs": [],
   "source": [
    "data = pd.read_csv('herg_karim.tab', sep='\\t')\n",
    "\n",
    "# Split the data into features and target variable\n",
    "X = data.drop(columns=['Y'])  # Features\n",
    "y = data['Y']  # Target variable\n",
    "\n",
    "# Split the data into training (70%), validation (15%), and test (15%) sets\n",
    "X_train, X_temp, y_train, y_temp = train_test_split(X, y, test_size=0.3, random_state=42)\n",
    "X_valid, X_test, y_valid, y_test = train_test_split(X_temp, y_temp, test_size=0.5, random_state=42)\n",
    "\n",
    "# Re-add the target variable to the features for each split\n",
    "X_train['Y'] = y_train.values\n",
    "X_valid['Y'] = y_valid.values\n",
    "X_test['Y'] = y_test.values\n",
    "\n",
    "# Featurizer to generate molecular fingerprints\n",
    "featurizer = ECFPFeaturizer(y_column='Y', smiles_col='Drug')  # Ensure the SMILES column name is correct\n",
    "\n",
    "# Apply featurizer to generate fingerprints\n",
    "X_train_featurized, y_train_featurized = featurizer(X_train)\n",
    "X_valid_featurized, y_valid_featurized = featurizer(X_valid)\n",
    "X_test_featurized, y_test_featurized = featurizer(X_test)"
   ]
  },
  {
   "cell_type": "code",
   "execution_count": 16,
   "id": "0c82f698-c158-4f6e-96dc-6bda98fba5e3",
   "metadata": {},
   "outputs": [
    {
     "name": "stdout",
     "output_type": "stream",
     "text": [
      "Validation Accuracy: 0.9232\n",
      "Intel® extension for Scikit-learn training time: 2.25 s\n",
      "Test Accuracy: 0.9145075274906791\n"
     ]
    }
   ],
   "source": [
    "# Train the model\n",
    "model = train(X_train_featurized, y_train_featurized, X_valid_featurized, y_valid_featurized)\n",
    "\n",
    "# Make predictions on the test set\n",
    "predictions_proba, predictions_class = predict(model, X_test_featurized)\n",
    "\n",
    "# Evaluate on the test set\n",
    "auc_test = roc_auc_score(y_test_featurized, predictions_proba)\n",
    "\n",
    "print(f'Test Accuracy: {auc_test}')\n"
   ]
  },
  {
   "cell_type": "markdown",
   "id": "1a3f5460-2e9f-4d0e-9465-cc521702effc",
   "metadata": {},
   "source": [
    "### WITHOUT USING INTEL ONEAPI EXTENSION FOR SCIKIT LEARN"
   ]
  },
  {
   "cell_type": "code",
   "execution_count": 17,
   "id": "c21a2da8-fe70-4b00-866e-470fcbd3dcac",
   "metadata": {},
   "outputs": [],
   "source": [
    "from sklearnex import unpatch_sklearn\n",
    "\n",
    "unpatch_sklearn()"
   ]
  },
  {
   "cell_type": "code",
   "execution_count": 20,
   "id": "4372989b-c246-445d-9f3d-4745f8c3a6e4",
   "metadata": {},
   "outputs": [],
   "source": [
    "def train(X_train, y_train, X_valid, y_valid):\n",
    "    # Model parameters\n",
    "    params = {\"n_estimators\": 150, \"random_state\": 44, \"n_jobs\": -1}\n",
    "    \n",
    "    # Start the timer\n",
    "    start_time = time()\n",
    "    \n",
    "    # Initialize and train the RandomForestClassifier model\n",
    "    model = RandomForestClassifier(**params)\n",
    "    model.fit(X_train, y_train)\n",
    "    \n",
    "    # Calculate training time\n",
    "    train_time = time() - start_time \n",
    "    \n",
    "    # Make predictions on the validation set\n",
    "    val_predictions_proba = model.predict_proba(X_valid)[:, 1]  # Probability for class 1\n",
    "    val_preds_class = model.predict(X_valid)  # Predicted class labels\n",
    "    \n",
    "    # Compute metrics\n",
    "    auc_val = roc_auc_score(y_valid, val_predictions_proba)\n",
    "    \n",
    "    # Print validation metrics and training time\n",
    "    print(f'Validation Accuracy: {auc_val:.4f}')\n",
    "    print(f\"Without Intel® extension for Scikit-learn training time: {train_time:.2f} s\")\n",
    "    \n",
    "    return model"
   ]
  },
  {
   "cell_type": "code",
   "execution_count": 19,
   "id": "89019391-6287-4386-ab8b-2cf65f3bcbae",
   "metadata": {},
   "outputs": [
    {
     "name": "stdout",
     "output_type": "stream",
     "text": [
      "Validation Accuracy: 0.9232\n",
      "Without Intel® extension for Scikit-learn training time: 7.10 s\n",
      "Test Accuracy: 0.9145075274906791\n"
     ]
    }
   ],
   "source": [
    "# Train the model\n",
    "model = train(X_train_featurized, y_train_featurized, X_valid_featurized, y_valid_featurized)\n",
    "\n",
    "# Make predictions on the test set\n",
    "predictions_proba, predictions_class = predict(model, X_test_featurized)\n",
    "\n",
    "# Evaluate on the test set\n",
    "auc_test = roc_auc_score(y_test_featurized, predictions_proba)\n",
    "\n",
    "print(f'Test Accuracy: {auc_test}')\n"
   ]
  },
  {
   "cell_type": "markdown",
   "id": "8f1538ad-955d-406d-8047-e5b547cb2ad0",
   "metadata": {},
   "source": [
    "### SAVING THE MODEL"
   ]
  },
  {
   "cell_type": "code",
   "execution_count": 21,
   "id": "fb679c47-fff4-4c9d-a766-b7680f35e4f9",
   "metadata": {},
   "outputs": [],
   "source": [
    "# Save the trained model to a pickle file\n",
    "with open('toxicity_model.pkl', 'wb') as f:\n",
    "    pickle.dump(model, f)\n"
   ]
  },
  {
   "cell_type": "code",
   "execution_count": 22,
   "id": "0f710a97-2847-498a-a9a2-80e406d89752",
   "metadata": {},
   "outputs": [],
   "source": [
    "# Function to predict for a single SMILES string\n",
    "def predict_single_smiles(smiles, model, featurizer):\n",
    "    # Create a dataframe for the single SMILES string (since the featurizer expects a dataframe)\n",
    "    df = pd.DataFrame({featurizer.smiles_col: [smiles]})\n",
    "\n",
    "    # Featurize the SMILES string\n",
    "    X_new, _ = featurizer(df)  # We don't need the labels here, so they can be ignored\n",
    "\n",
    "    # Make prediction (predict_proba returns probabilities for each class)\n",
    "    prediction_proba = model.predict_proba(X_new)[:, 1]  # Probability for class 1\n",
    "    prediction_class = model.predict(X_new)  # Predicted class label\n",
    "\n",
    "    return prediction_class[0], prediction_proba[0]"
   ]
  },
  {
   "cell_type": "code",
   "execution_count": 23,
   "id": "4e18e344-db21-4e91-aaf2-d2a4d4357b20",
   "metadata": {},
   "outputs": [
    {
     "name": "stdout",
     "output_type": "stream",
     "text": [
      "Predicted Class: 1\n",
      "Predicted Probability for Class 1: 0.96\n"
     ]
    }
   ],
   "source": [
    "class Featurizer:\n",
    "    def __init__(self, y_column=None, smiles_col='Drug', **kwargs):\n",
    "        self.y_column = y_column\n",
    "        self.smiles_col = smiles_col\n",
    "        self.__dict__.update(kwargs)\n",
    "\n",
    "    def __call__(self, df):\n",
    "        raise NotImplementedError()\n",
    "\n",
    "# ECFP Featurizer for molecular fingerprint generation\n",
    "class ECFPFeaturizer(Featurizer):\n",
    "    def __init__(self, y_column=None, radius=2, length=1024, **kwargs):\n",
    "        self.radius = radius\n",
    "        self.length = length\n",
    "        super().__init__(y_column, **kwargs)\n",
    "\n",
    "    def __call__(self, df):\n",
    "        fingerprints = []\n",
    "        labels = []\n",
    "        for i, row in df.iterrows():\n",
    "            smiles = row[self.smiles_col]\n",
    "            mol = Chem.MolFromSmiles(smiles)\n",
    "            fp = AllChem.GetMorganFingerprintAsBitVect(mol, self.radius, nBits=self.length)\n",
    "            fingerprints.append(fp)\n",
    "            \n",
    "            # Only add label if y_column exists (not needed for single SMILES prediction)\n",
    "            if self.y_column and self.y_column in df.columns:\n",
    "                y = row[self.y_column]\n",
    "                labels.append(y)\n",
    "\n",
    "        fingerprints = np.array(fingerprints)\n",
    "        labels = np.array(labels) if labels else None\n",
    "        return fingerprints, labels\n",
    "\n",
    "\n",
    "# Load the trained model from the pickle file\n",
    "with open('BBBP_model.pkl', 'rb') as f:\n",
    "    model = pickle.load(f)\n",
    "\n",
    "# Initialize the featurizer (without a y_column for prediction)\n",
    "featurizer = ECFPFeaturizer(smiles_col='Drug')  # y_column not needed for predictions\n",
    "\n",
    "# Example SMILES string for prediction\n",
    "smiles_string = \"CCCCCC1=CC2=C(C3C=C(CCC3C(O2)(C)C)C)C(=C1)O\"  # ECC(C)CC1=CC=C(C=C1)C(C)C(=O)O \n",
    "\n",
    "# Make predictions for the single SMILES string\n",
    "predicted_class, predicted_probability = predict_single_smiles(smiles_string, model, featurizer)\n",
    "\n",
    "# Output the predictions\n",
    "print(f'Predicted Class: {predicted_class}')\n",
    "print(f'Predicted Probability for Class 1: {predicted_probability}')"
   ]
  },
  {
   "cell_type": "code",
   "execution_count": null,
   "id": "e0945dc0-48ed-4d92-b660-e4871abd9d3f",
   "metadata": {},
   "outputs": [],
   "source": []
  }
 ],
 "metadata": {
  "kernelspec": {
   "display_name": "Python 3 (ipykernel)",
   "language": "python",
   "name": "python3"
  },
  "language_info": {
   "codemirror_mode": {
    "name": "ipython",
    "version": 3
   },
   "file_extension": ".py",
   "mimetype": "text/x-python",
   "name": "python",
   "nbconvert_exporter": "python",
   "pygments_lexer": "ipython3",
   "version": "3.10.14"
  }
 },
 "nbformat": 4,
 "nbformat_minor": 5
}
