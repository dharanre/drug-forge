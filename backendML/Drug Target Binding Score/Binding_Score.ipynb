{
 "cells": [
  {
   "cell_type": "markdown",
   "metadata": {},
   "source": [
    "### DRUG TARGET BINDING SCORE"
   ]
  },
  {
   "cell_type": "code",
   "execution_count": 1,
   "metadata": {},
   "outputs": [
    {
     "name": "stdout",
     "output_type": "stream",
     "text": [
      "Collecting DeepPurpose\n",
      "  Downloading DeepPurpose-0.1.5.tar.gz (158 kB)\n",
      "     ---------------------------------------- 0.0/158.5 kB ? eta -:--:--\n",
      "     ------- -------------------------------- 30.7/158.5 kB ? eta -:--:--\n",
      "     --------------- ----------------------- 61.4/158.5 kB 1.1 MB/s eta 0:00:01\n",
      "     ------------------------------------ - 153.6/158.5 kB 1.1 MB/s eta 0:00:01\n",
      "     -------------------------------------- 158.5/158.5 kB 1.1 MB/s eta 0:00:00\n",
      "  Preparing metadata (setup.py): started\n",
      "  Preparing metadata (setup.py): finished with status 'done'\n",
      "Requirement already satisfied: numpy in c:\\users\\ssanj\\anaconda3\\lib\\site-packages (from DeepPurpose) (1.26.4)\n",
      "Requirement already satisfied: pandas in c:\\users\\ssanj\\anaconda3\\lib\\site-packages (from DeepPurpose) (2.0.3)\n",
      "Requirement already satisfied: tqdm in c:\\users\\ssanj\\anaconda3\\lib\\site-packages (from DeepPurpose) (4.66.5)\n",
      "Requirement already satisfied: scikit-learn in c:\\users\\ssanj\\anaconda3\\lib\\site-packages (from DeepPurpose) (1.3.0)\n",
      "Collecting wget (from DeepPurpose)\n",
      "  Downloading wget-3.2.zip (10 kB)\n",
      "  Preparing metadata (setup.py): started\n",
      "  Preparing metadata (setup.py): finished with status 'done'\n",
      "Requirement already satisfied: torch in c:\\users\\ssanj\\anaconda3\\lib\\site-packages (from DeepPurpose) (2.4.1)\n",
      "Requirement already satisfied: matplotlib in c:\\users\\ssanj\\anaconda3\\lib\\site-packages (from DeepPurpose) (3.7.2)\n",
      "Requirement already satisfied: requests in c:\\users\\ssanj\\anaconda3\\lib\\site-packages (from DeepPurpose) (2.31.0)\n",
      "Collecting pandas-flavor (from DeepPurpose)\n",
      "  Obtaining dependency information for pandas-flavor from https://files.pythonhosted.org/packages/67/1a/bfb5574b215f530c7ac5be684f33d60b299abbebd763c203aa31755f2fb2/pandas_flavor-0.6.0-py3-none-any.whl.metadata\n",
      "  Downloading pandas_flavor-0.6.0-py3-none-any.whl.metadata (6.3 kB)\n",
      "Collecting subword-nmt (from DeepPurpose)\n",
      "  Obtaining dependency information for subword-nmt from https://files.pythonhosted.org/packages/1b/9a/488ecac22d78eb429928b9ee4f6b6c692e116ca4bd43ef42a475698def32/subword_nmt-0.3.8-py3-none-any.whl.metadata\n",
      "  Downloading subword_nmt-0.3.8-py3-none-any.whl.metadata (9.2 kB)\n",
      "Collecting lifelines (from DeepPurpose)\n",
      "  Obtaining dependency information for lifelines from https://files.pythonhosted.org/packages/fa/7d/b227ca1bae2474f954f00644dcf692f75701043717565a1a56685cb69416/lifelines-0.29.0-py3-none-any.whl.metadata\n",
      "  Downloading lifelines-0.29.0-py3-none-any.whl.metadata (3.2 kB)\n",
      "Collecting prettytable (from DeepPurpose)\n",
      "  Obtaining dependency information for prettytable from https://files.pythonhosted.org/packages/d9/5a/bfdc26c0e19156992b1dc9de47f0b2e8992fe43db9981d814f860bdce2b3/prettytable-3.11.0-py3-none-any.whl.metadata\n",
      "  Downloading prettytable-3.11.0-py3-none-any.whl.metadata (30 kB)\n",
      "Requirement already satisfied: tensorboard in c:\\users\\ssanj\\anaconda3\\lib\\site-packages (from DeepPurpose) (2.15.1)\n",
      "Collecting ax-platform (from DeepPurpose)\n",
      "  Obtaining dependency information for ax-platform from https://files.pythonhosted.org/packages/52/d4/2f3ee454b1ebbbb3912478305e9eb116df5760cd8c3690ad1e8c0cb281e2/ax_platform-0.4.3-py3-none-any.whl.metadata\n",
      "  Downloading ax_platform-0.4.3-py3-none-any.whl.metadata (11 kB)\n",
      "Collecting dgllife (from DeepPurpose)\n",
      "  Obtaining dependency information for dgllife from https://files.pythonhosted.org/packages/a6/4e/f96023191b990533abf50fb172b2439e4ab5ee3efb67520a57facd33df12/dgllife-0.3.2-py3-none-any.whl.metadata\n",
      "  Downloading dgllife-0.3.2-py3-none-any.whl.metadata (667 bytes)\n",
      "Collecting botorch==0.12.0 (from ax-platform->DeepPurpose)\n",
      "  Obtaining dependency information for botorch==0.12.0 from https://files.pythonhosted.org/packages/6f/a7/2d7f30b820fe61ccd0b239c3929920095a76cb2114db547af1df6c8284b4/botorch-0.12.0-py3-none-any.whl.metadata\n",
      "  Downloading botorch-0.12.0-py3-none-any.whl.metadata (11 kB)\n",
      "Requirement already satisfied: jinja2 in c:\\users\\ssanj\\anaconda3\\lib\\site-packages (from ax-platform->DeepPurpose) (3.1.2)\n",
      "Requirement already satisfied: scipy in c:\\users\\ssanj\\anaconda3\\lib\\site-packages (from ax-platform->DeepPurpose) (1.11.1)\n",
      "Requirement already satisfied: ipywidgets in c:\\users\\ssanj\\anaconda3\\lib\\site-packages (from ax-platform->DeepPurpose) (8.0.4)\n",
      "Collecting plotly>=5.12.0 (from ax-platform->DeepPurpose)\n",
      "  Obtaining dependency information for plotly>=5.12.0 from https://files.pythonhosted.org/packages/e5/ae/580600f441f6fc05218bd6c9d5794f4aef072a7d9093b291f1c50a9db8bc/plotly-5.24.1-py3-none-any.whl.metadata\n",
      "  Downloading plotly-5.24.1-py3-none-any.whl.metadata (7.3 kB)\n",
      "Collecting pyre-extensions (from ax-platform->DeepPurpose)\n",
      "  Obtaining dependency information for pyre-extensions from https://files.pythonhosted.org/packages/63/c9/9adb55032643489fee220613017744dba704562ec907ddc8ec64528bbe13/pyre_extensions-0.0.31-py3-none-any.whl.metadata\n",
      "  Downloading pyre_extensions-0.0.31-py3-none-any.whl.metadata (4.0 kB)\n",
      "Requirement already satisfied: multipledispatch in c:\\users\\ssanj\\anaconda3\\lib\\site-packages (from botorch==0.12.0->ax-platform->DeepPurpose) (0.6.0)\n",
      "Requirement already satisfied: mpmath<=1.3,>=0.19 in c:\\users\\ssanj\\anaconda3\\lib\\site-packages (from botorch==0.12.0->ax-platform->DeepPurpose) (1.3.0)\n",
      "Collecting pyro-ppl>=1.8.4 (from botorch==0.12.0->ax-platform->DeepPurpose)\n",
      "  Obtaining dependency information for pyro-ppl>=1.8.4 from https://files.pythonhosted.org/packages/ed/37/def183a2a2c8619d92649d62fe0622c4c6c62f60e4151e8fbaa409e7d5ab/pyro_ppl-1.9.1-py3-none-any.whl.metadata\n",
      "  Downloading pyro_ppl-1.9.1-py3-none-any.whl.metadata (7.8 kB)\n",
      "Requirement already satisfied: typing-extensions in c:\\users\\ssanj\\anaconda3\\lib\\site-packages (from botorch==0.12.0->ax-platform->DeepPurpose) (4.12.2)\n",
      "Collecting gpytorch==1.13 (from botorch==0.12.0->ax-platform->DeepPurpose)\n",
      "  Obtaining dependency information for gpytorch==1.13 from https://files.pythonhosted.org/packages/05/77/e19f17291dba1ad21206b632f2e638376cdfccb7cce852e4c34692c6f9f0/gpytorch-1.13-py3-none-any.whl.metadata\n",
      "  Downloading gpytorch-1.13-py3-none-any.whl.metadata (8.0 kB)\n",
      "Collecting linear-operator==0.5.3 (from botorch==0.12.0->ax-platform->DeepPurpose)\n",
      "  Obtaining dependency information for linear-operator==0.5.3 from https://files.pythonhosted.org/packages/ca/5e/4cff4e634151884502a260f5fc3f92303775133b0e0fedb7d3c7f2a56d4c/linear_operator-0.5.3-py3-none-any.whl.metadata\n",
      "  Downloading linear_operator-0.5.3-py3-none-any.whl.metadata (15 kB)\n",
      "Collecting jaxtyping==0.2.19 (from gpytorch==1.13->botorch==0.12.0->ax-platform->DeepPurpose)\n",
      "  Obtaining dependency information for jaxtyping==0.2.19 from https://files.pythonhosted.org/packages/7f/8f/b39d40fef81d7def4898ad11bbe686185e09cb9e39db905e2afc77f1d350/jaxtyping-0.2.19-py3-none-any.whl.metadata\n",
      "  Downloading jaxtyping-0.2.19-py3-none-any.whl.metadata (5.7 kB)\n",
      "Collecting typeguard>=2.13.3 (from jaxtyping==0.2.19->gpytorch==1.13->botorch==0.12.0->ax-platform->DeepPurpose)\n",
      "  Obtaining dependency information for typeguard>=2.13.3 from https://files.pythonhosted.org/packages/eb/de/be0ba39ee73760bf33329b7c6f95bc67e96593c69c881671e312538e24bb/typeguard-4.3.0-py3-none-any.whl.metadata\n",
      "  Downloading typeguard-4.3.0-py3-none-any.whl.metadata (3.7 kB)\n",
      "Requirement already satisfied: filelock in c:\\users\\ssanj\\anaconda3\\lib\\site-packages (from torch->DeepPurpose) (3.9.0)\n",
      "Requirement already satisfied: sympy in c:\\users\\ssanj\\anaconda3\\lib\\site-packages (from torch->DeepPurpose) (1.11.1)\n",
      "Requirement already satisfied: networkx in c:\\users\\ssanj\\anaconda3\\lib\\site-packages (from torch->DeepPurpose) (3.1)\n",
      "Requirement already satisfied: fsspec in c:\\users\\ssanj\\anaconda3\\lib\\site-packages (from torch->DeepPurpose) (2024.9.0)\n",
      "Collecting hyperopt (from dgllife->DeepPurpose)\n",
      "  Obtaining dependency information for hyperopt from https://files.pythonhosted.org/packages/b6/cd/5b3334d39276067f54618ce0d0b48ed69d91352fbf137468c7095170d0e5/hyperopt-0.2.7-py2.py3-none-any.whl.metadata\n",
      "  Downloading hyperopt-0.2.7-py2.py3-none-any.whl.metadata (1.7 kB)\n",
      "Requirement already satisfied: joblib in c:\\users\\ssanj\\anaconda3\\lib\\site-packages (from dgllife->DeepPurpose) (1.2.0)\n",
      "Requirement already satisfied: charset-normalizer<4,>=2 in c:\\users\\ssanj\\anaconda3\\lib\\site-packages (from requests->DeepPurpose) (3.3.2)\n",
      "Requirement already satisfied: idna<4,>=2.5 in c:\\users\\ssanj\\anaconda3\\lib\\site-packages (from requests->DeepPurpose) (3.4)\n",
      "Requirement already satisfied: urllib3<3,>=1.21.1 in c:\\users\\ssanj\\anaconda3\\lib\\site-packages (from requests->DeepPurpose) (2.2.3)\n",
      "Requirement already satisfied: certifi>=2017.4.17 in c:\\users\\ssanj\\anaconda3\\lib\\site-packages (from requests->DeepPurpose) (2023.11.17)\n",
      "Requirement already satisfied: threadpoolctl>=2.0.0 in c:\\users\\ssanj\\anaconda3\\lib\\site-packages (from scikit-learn->DeepPurpose) (2.2.0)\n",
      "Collecting pandas (from DeepPurpose)\n",
      "  Obtaining dependency information for pandas from https://files.pythonhosted.org/packages/ed/8c/87ddf1fcb55d11f9f847e3c69bb1c6f8e46e2f40ab1a2d2abadb2401b007/pandas-2.2.3-cp311-cp311-win_amd64.whl.metadata\n",
      "  Downloading pandas-2.2.3-cp311-cp311-win_amd64.whl.metadata (19 kB)\n",
      "Collecting autograd>=1.5 (from lifelines->DeepPurpose)\n",
      "  Obtaining dependency information for autograd>=1.5 from https://files.pythonhosted.org/packages/6d/90/d13cf396989052cadd8511c1878b0913bbce28eeef5feb95710a92e03076/autograd-1.7.0-py3-none-any.whl.metadata\n",
      "  Downloading autograd-1.7.0-py3-none-any.whl.metadata (7.5 kB)\n",
      "Collecting autograd-gamma>=0.3 (from lifelines->DeepPurpose)\n",
      "  Downloading autograd-gamma-0.5.0.tar.gz (4.0 kB)\n",
      "  Preparing metadata (setup.py): started\n",
      "  Preparing metadata (setup.py): finished with status 'done'\n",
      "Collecting formulaic>=0.2.2 (from lifelines->DeepPurpose)\n",
      "  Obtaining dependency information for formulaic>=0.2.2 from https://files.pythonhosted.org/packages/f7/a3/eeb29e0dbfd6ef0bafd0b3107649e0b8a02b382265f5e9572c7bda22eeff/formulaic-1.0.2-py3-none-any.whl.metadata\n",
      "  Downloading formulaic-1.0.2-py3-none-any.whl.metadata (6.8 kB)\n",
      "Requirement already satisfied: contourpy>=1.0.1 in c:\\users\\ssanj\\anaconda3\\lib\\site-packages (from matplotlib->DeepPurpose) (1.0.5)\n",
      "Requirement already satisfied: cycler>=0.10 in c:\\users\\ssanj\\anaconda3\\lib\\site-packages (from matplotlib->DeepPurpose) (0.11.0)\n",
      "Requirement already satisfied: fonttools>=4.22.0 in c:\\users\\ssanj\\anaconda3\\lib\\site-packages (from matplotlib->DeepPurpose) (4.25.0)\n",
      "Requirement already satisfied: kiwisolver>=1.0.1 in c:\\users\\ssanj\\anaconda3\\lib\\site-packages (from matplotlib->DeepPurpose) (1.4.4)\n",
      "Requirement already satisfied: packaging>=20.0 in c:\\users\\ssanj\\anaconda3\\lib\\site-packages (from matplotlib->DeepPurpose) (23.2)\n",
      "Requirement already satisfied: pillow>=6.2.0 in c:\\users\\ssanj\\anaconda3\\lib\\site-packages (from matplotlib->DeepPurpose) (10.0.1)\n",
      "Requirement already satisfied: pyparsing<3.1,>=2.3.1 in c:\\users\\ssanj\\anaconda3\\lib\\site-packages (from matplotlib->DeepPurpose) (3.0.9)\n",
      "Requirement already satisfied: python-dateutil>=2.7 in c:\\users\\ssanj\\anaconda3\\lib\\site-packages (from matplotlib->DeepPurpose) (2.8.2)\n",
      "Requirement already satisfied: pytz>=2020.1 in c:\\users\\ssanj\\anaconda3\\lib\\site-packages (from pandas->DeepPurpose) (2023.3.post1)\n",
      "Requirement already satisfied: tzdata>=2022.7 in c:\\users\\ssanj\\anaconda3\\lib\\site-packages (from pandas->DeepPurpose) (2023.3)\n",
      "Requirement already satisfied: xarray in c:\\users\\ssanj\\anaconda3\\lib\\site-packages (from pandas-flavor->DeepPurpose) (2023.6.0)\n",
      "Requirement already satisfied: wcwidth in c:\\users\\ssanj\\anaconda3\\lib\\site-packages (from prettytable->DeepPurpose) (0.2.5)\n",
      "Collecting mock (from subword-nmt->DeepPurpose)\n",
      "  Obtaining dependency information for mock from https://files.pythonhosted.org/packages/6b/20/471f41173930550f279ccb65596a5ac19b9ac974a8d93679bcd3e0c31498/mock-5.1.0-py3-none-any.whl.metadata\n",
      "  Downloading mock-5.1.0-py3-none-any.whl.metadata (3.0 kB)\n",
      "Requirement already satisfied: absl-py>=0.4 in c:\\users\\ssanj\\anaconda3\\lib\\site-packages (from tensorboard->DeepPurpose) (2.1.0)\n",
      "Requirement already satisfied: grpcio>=1.48.2 in c:\\users\\ssanj\\anaconda3\\lib\\site-packages (from tensorboard->DeepPurpose) (1.66.2)\n",
      "Requirement already satisfied: google-auth<3,>=1.6.3 in c:\\users\\ssanj\\appdata\\roaming\\python\\python311\\site-packages (from tensorboard->DeepPurpose) (2.25.2)\n",
      "Requirement already satisfied: google-auth-oauthlib<2,>=0.5 in c:\\users\\ssanj\\anaconda3\\lib\\site-packages (from tensorboard->DeepPurpose) (1.2.0)\n",
      "Requirement already satisfied: markdown>=2.6.8 in c:\\users\\ssanj\\anaconda3\\lib\\site-packages (from tensorboard->DeepPurpose) (3.4.1)\n",
      "Collecting protobuf<4.24,>=3.19.6 (from tensorboard->DeepPurpose)\n",
      "  Obtaining dependency information for protobuf<4.24,>=3.19.6 from https://files.pythonhosted.org/packages/80/70/dc63d340d27b8ff22022d7dd14b8d6d68b479a003eacdc4507150a286d9a/protobuf-4.23.4-cp310-abi3-win_amd64.whl.metadata\n",
      "  Using cached protobuf-4.23.4-cp310-abi3-win_amd64.whl.metadata (540 bytes)\n",
      "Requirement already satisfied: setuptools>=41.0.0 in c:\\users\\ssanj\\anaconda3\\lib\\site-packages (from tensorboard->DeepPurpose) (68.0.0)\n",
      "Requirement already satisfied: six>1.9 in c:\\users\\ssanj\\anaconda3\\lib\\site-packages (from tensorboard->DeepPurpose) (1.16.0)\n",
      "Requirement already satisfied: tensorboard-data-server<0.8.0,>=0.7.0 in c:\\users\\ssanj\\anaconda3\\lib\\site-packages (from tensorboard->DeepPurpose) (0.7.2)\n",
      "Requirement already satisfied: werkzeug>=1.0.1 in c:\\users\\ssanj\\anaconda3\\lib\\site-packages (from tensorboard->DeepPurpose) (2.2.3)\n",
      "Requirement already satisfied: colorama in c:\\users\\ssanj\\anaconda3\\lib\\site-packages (from tqdm->DeepPurpose) (0.4.6)\n",
      "Collecting interface-meta>=1.2.0 (from formulaic>=0.2.2->lifelines->DeepPurpose)\n",
      "  Obtaining dependency information for interface-meta>=1.2.0 from https://files.pythonhosted.org/packages/02/3f/a6ec28c88e2d8e54d32598a1e0b5208a4baa72a8e7f6e241beab5731eb9d/interface_meta-1.3.0-py3-none-any.whl.metadata\n",
      "  Downloading interface_meta-1.3.0-py3-none-any.whl.metadata (6.7 kB)\n",
      "Requirement already satisfied: wrapt>=1.0 in c:\\users\\ssanj\\anaconda3\\lib\\site-packages (from formulaic>=0.2.2->lifelines->DeepPurpose) (1.14.1)\n",
      "Requirement already satisfied: cachetools<6.0,>=2.0.0 in c:\\users\\ssanj\\appdata\\roaming\\python\\python311\\site-packages (from google-auth<3,>=1.6.3->tensorboard->DeepPurpose) (5.3.2)\n",
      "Requirement already satisfied: pyasn1-modules>=0.2.1 in c:\\users\\ssanj\\anaconda3\\lib\\site-packages (from google-auth<3,>=1.6.3->tensorboard->DeepPurpose) (0.2.8)\n",
      "Requirement already satisfied: rsa<5,>=3.1.4 in c:\\users\\ssanj\\appdata\\roaming\\python\\python311\\site-packages (from google-auth<3,>=1.6.3->tensorboard->DeepPurpose) (4.9)\n",
      "Requirement already satisfied: requests-oauthlib>=0.7.0 in c:\\users\\ssanj\\anaconda3\\lib\\site-packages (from google-auth-oauthlib<2,>=0.5->tensorboard->DeepPurpose) (1.3.1)\n",
      "Requirement already satisfied: tenacity>=6.2.0 in c:\\users\\ssanj\\anaconda3\\lib\\site-packages (from plotly>=5.12.0->ax-platform->DeepPurpose) (8.2.2)\n",
      "Requirement already satisfied: MarkupSafe>=2.1.1 in c:\\users\\ssanj\\anaconda3\\lib\\site-packages (from werkzeug>=1.0.1->tensorboard->DeepPurpose) (2.1.1)\n",
      "Requirement already satisfied: future in c:\\users\\ssanj\\anaconda3\\lib\\site-packages (from hyperopt->dgllife->DeepPurpose) (0.18.3)\n",
      "Requirement already satisfied: cloudpickle in c:\\users\\ssanj\\anaconda3\\lib\\site-packages (from hyperopt->dgllife->DeepPurpose) (2.2.1)\n",
      "Collecting py4j (from hyperopt->dgllife->DeepPurpose)\n",
      "  Obtaining dependency information for py4j from https://files.pythonhosted.org/packages/10/30/a58b32568f1623aaad7db22aa9eafc4c6c194b429ff35bdc55ca2726da47/py4j-0.10.9.7-py2.py3-none-any.whl.metadata\n",
      "  Downloading py4j-0.10.9.7-py2.py3-none-any.whl.metadata (1.5 kB)\n",
      "Requirement already satisfied: ipykernel>=4.5.1 in c:\\users\\ssanj\\anaconda3\\lib\\site-packages (from ipywidgets->ax-platform->DeepPurpose) (6.25.0)\n",
      "Requirement already satisfied: ipython>=6.1.0 in c:\\users\\ssanj\\anaconda3\\lib\\site-packages (from ipywidgets->ax-platform->DeepPurpose) (8.15.0)\n",
      "Requirement already satisfied: traitlets>=4.3.1 in c:\\users\\ssanj\\anaconda3\\lib\\site-packages (from ipywidgets->ax-platform->DeepPurpose) (5.7.1)\n",
      "Requirement already satisfied: widgetsnbextension~=4.0 in c:\\users\\ssanj\\anaconda3\\lib\\site-packages (from ipywidgets->ax-platform->DeepPurpose) (4.0.5)\n",
      "Requirement already satisfied: jupyterlab-widgets~=3.0 in c:\\users\\ssanj\\anaconda3\\lib\\site-packages (from ipywidgets->ax-platform->DeepPurpose) (3.0.5)\n",
      "Requirement already satisfied: typing-inspect in c:\\users\\ssanj\\anaconda3\\lib\\site-packages (from pyre-extensions->ax-platform->DeepPurpose) (0.9.0)\n",
      "Requirement already satisfied: comm>=0.1.1 in c:\\users\\ssanj\\anaconda3\\lib\\site-packages (from ipykernel>=4.5.1->ipywidgets->ax-platform->DeepPurpose) (0.1.2)\n",
      "Requirement already satisfied: debugpy>=1.6.5 in c:\\users\\ssanj\\anaconda3\\lib\\site-packages (from ipykernel>=4.5.1->ipywidgets->ax-platform->DeepPurpose) (1.6.7)\n",
      "Requirement already satisfied: jupyter-client>=6.1.12 in c:\\users\\ssanj\\anaconda3\\lib\\site-packages (from ipykernel>=4.5.1->ipywidgets->ax-platform->DeepPurpose) (7.4.9)\n",
      "Requirement already satisfied: jupyter-core!=5.0.*,>=4.12 in c:\\users\\ssanj\\anaconda3\\lib\\site-packages (from ipykernel>=4.5.1->ipywidgets->ax-platform->DeepPurpose) (5.3.0)\n",
      "Requirement already satisfied: matplotlib-inline>=0.1 in c:\\users\\ssanj\\anaconda3\\lib\\site-packages (from ipykernel>=4.5.1->ipywidgets->ax-platform->DeepPurpose) (0.1.6)\n",
      "Requirement already satisfied: nest-asyncio in c:\\users\\ssanj\\anaconda3\\lib\\site-packages (from ipykernel>=4.5.1->ipywidgets->ax-platform->DeepPurpose) (1.6.0)\n",
      "Requirement already satisfied: psutil in c:\\users\\ssanj\\anaconda3\\lib\\site-packages (from ipykernel>=4.5.1->ipywidgets->ax-platform->DeepPurpose) (5.9.0)\n",
      "Requirement already satisfied: pyzmq>=20 in c:\\users\\ssanj\\anaconda3\\lib\\site-packages (from ipykernel>=4.5.1->ipywidgets->ax-platform->DeepPurpose) (23.2.0)\n",
      "Requirement already satisfied: tornado>=6.1 in c:\\users\\ssanj\\anaconda3\\lib\\site-packages (from ipykernel>=4.5.1->ipywidgets->ax-platform->DeepPurpose) (6.3.2)\n",
      "Requirement already satisfied: backcall in c:\\users\\ssanj\\anaconda3\\lib\\site-packages (from ipython>=6.1.0->ipywidgets->ax-platform->DeepPurpose) (0.2.0)\n",
      "Requirement already satisfied: decorator in c:\\users\\ssanj\\anaconda3\\lib\\site-packages (from ipython>=6.1.0->ipywidgets->ax-platform->DeepPurpose) (5.1.1)\n",
      "Requirement already satisfied: jedi>=0.16 in c:\\users\\ssanj\\anaconda3\\lib\\site-packages (from ipython>=6.1.0->ipywidgets->ax-platform->DeepPurpose) (0.18.1)\n",
      "Requirement already satisfied: pickleshare in c:\\users\\ssanj\\anaconda3\\lib\\site-packages (from ipython>=6.1.0->ipywidgets->ax-platform->DeepPurpose) (0.7.5)\n",
      "Requirement already satisfied: prompt-toolkit!=3.0.37,<3.1.0,>=3.0.30 in c:\\users\\ssanj\\anaconda3\\lib\\site-packages (from ipython>=6.1.0->ipywidgets->ax-platform->DeepPurpose) (3.0.36)\n",
      "Requirement already satisfied: pygments>=2.4.0 in c:\\users\\ssanj\\anaconda3\\lib\\site-packages (from ipython>=6.1.0->ipywidgets->ax-platform->DeepPurpose) (2.15.1)\n",
      "Requirement already satisfied: stack-data in c:\\users\\ssanj\\anaconda3\\lib\\site-packages (from ipython>=6.1.0->ipywidgets->ax-platform->DeepPurpose) (0.2.0)\n",
      "Requirement already satisfied: pyasn1<0.5.0,>=0.4.6 in c:\\users\\ssanj\\anaconda3\\lib\\site-packages (from pyasn1-modules>=0.2.1->google-auth<3,>=1.6.3->tensorboard->DeepPurpose) (0.4.8)\n",
      "Requirement already satisfied: opt-einsum>=2.3.2 in c:\\users\\ssanj\\anaconda3\\lib\\site-packages (from pyro-ppl>=1.8.4->botorch==0.12.0->ax-platform->DeepPurpose) (3.3.0)\n",
      "Collecting pyro-api>=0.1.1 (from pyro-ppl>=1.8.4->botorch==0.12.0->ax-platform->DeepPurpose)\n",
      "  Obtaining dependency information for pyro-api>=0.1.1 from https://files.pythonhosted.org/packages/fc/81/957ae78e6398460a7230b0eb9b8f1cb954c5e913e868e48d89324c68cec7/pyro_api-0.1.2-py3-none-any.whl.metadata\n",
      "  Downloading pyro_api-0.1.2-py3-none-any.whl.metadata (2.5 kB)\n",
      "Requirement already satisfied: oauthlib>=3.0.0 in c:\\users\\ssanj\\anaconda3\\lib\\site-packages (from requests-oauthlib>=0.7.0->google-auth-oauthlib<2,>=0.5->tensorboard->DeepPurpose) (3.2.2)\n",
      "Requirement already satisfied: mypy-extensions>=0.3.0 in c:\\users\\ssanj\\anaconda3\\lib\\site-packages (from typing-inspect->pyre-extensions->ax-platform->DeepPurpose) (1.0.0)\n",
      "Requirement already satisfied: parso<0.9.0,>=0.8.0 in c:\\users\\ssanj\\anaconda3\\lib\\site-packages (from jedi>=0.16->ipython>=6.1.0->ipywidgets->ax-platform->DeepPurpose) (0.8.3)\n",
      "Requirement already satisfied: entrypoints in c:\\users\\ssanj\\anaconda3\\lib\\site-packages (from jupyter-client>=6.1.12->ipykernel>=4.5.1->ipywidgets->ax-platform->DeepPurpose) (0.4)\n",
      "Requirement already satisfied: platformdirs>=2.5 in c:\\users\\ssanj\\anaconda3\\lib\\site-packages (from jupyter-core!=5.0.*,>=4.12->ipykernel>=4.5.1->ipywidgets->ax-platform->DeepPurpose) (3.10.0)\n",
      "Requirement already satisfied: pywin32>=300 in c:\\users\\ssanj\\anaconda3\\lib\\site-packages (from jupyter-core!=5.0.*,>=4.12->ipykernel>=4.5.1->ipywidgets->ax-platform->DeepPurpose) (305.1)\n",
      "Requirement already satisfied: executing in c:\\users\\ssanj\\anaconda3\\lib\\site-packages (from stack-data->ipython>=6.1.0->ipywidgets->ax-platform->DeepPurpose) (0.8.3)\n",
      "Requirement already satisfied: asttokens in c:\\users\\ssanj\\anaconda3\\lib\\site-packages (from stack-data->ipython>=6.1.0->ipywidgets->ax-platform->DeepPurpose) (2.0.5)\n",
      "Requirement already satisfied: pure-eval in c:\\users\\ssanj\\anaconda3\\lib\\site-packages (from stack-data->ipython>=6.1.0->ipywidgets->ax-platform->DeepPurpose) (0.2.2)\n",
      "Downloading ax_platform-0.4.3-py3-none-any.whl (1.3 MB)\n",
      "   ---------------------------------------- 0.0/1.3 MB ? eta -:--:--\n",
      "   ---- ----------------------------------- 0.2/1.3 MB 4.5 MB/s eta 0:00:01\n",
      "   ------ --------------------------------- 0.2/1.3 MB 3.1 MB/s eta 0:00:01\n",
      "   -------------- ------------------------- 0.5/1.3 MB 3.5 MB/s eta 0:00:01\n",
      "   ----------------------------- ---------- 0.9/1.3 MB 5.3 MB/s eta 0:00:01\n",
      "   -------------------------------------- - 1.2/1.3 MB 5.4 MB/s eta 0:00:01\n",
      "   ---------------------------------------- 1.3/1.3 MB 5.0 MB/s eta 0:00:00\n",
      "Downloading botorch-0.12.0-py3-none-any.whl (644 kB)\n",
      "   ---------------------------------------- 0.0/644.8 kB ? eta -:--:--\n",
      "   --------------------------------------- 644.8/644.8 kB 39.7 MB/s eta 0:00:00\n",
      "Downloading gpytorch-1.13-py3-none-any.whl (277 kB)\n",
      "   ---------------------------------------- 0.0/277.8 kB ? eta -:--:--\n",
      "   ---------------------------------------- 277.8/277.8 kB 5.7 MB/s eta 0:00:00\n",
      "Downloading linear_operator-0.5.3-py3-none-any.whl (176 kB)\n",
      "   ---------------------------------------- 0.0/176.4 kB ? eta -:--:--\n",
      "   --------------------------------------- 176.4/176.4 kB 11.1 MB/s eta 0:00:00\n",
      "Downloading jaxtyping-0.2.19-py3-none-any.whl (24 kB)\n",
      "Downloading dgllife-0.3.2-py3-none-any.whl (226 kB)\n",
      "   ---------------------------------------- 0.0/226.1 kB ? eta -:--:--\n",
      "   --------------------------------------- 226.1/226.1 kB 14.4 MB/s eta 0:00:00\n",
      "Downloading lifelines-0.29.0-py3-none-any.whl (349 kB)\n",
      "   ---------------------------------------- 0.0/349.3 kB ? eta -:--:--\n",
      "   --------------------------------------- 349.3/349.3 kB 21.2 MB/s eta 0:00:00\n",
      "Downloading pandas-2.2.3-cp311-cp311-win_amd64.whl (11.6 MB)\n",
      "   ---------------------------------------- 0.0/11.6 MB ? eta -:--:--\n",
      "   ---- ----------------------------------- 1.3/11.6 MB 28.3 MB/s eta 0:00:01\n",
      "   ---- ----------------------------------- 1.4/11.6 MB 30.9 MB/s eta 0:00:01\n",
      "   ----- ---------------------------------- 1.6/11.6 MB 13.0 MB/s eta 0:00:01\n",
      "   ------- -------------------------------- 2.1/11.6 MB 13.7 MB/s eta 0:00:01\n",
      "   --------- ------------------------------ 2.8/11.6 MB 12.9 MB/s eta 0:00:01\n",
      "   ---------- ----------------------------- 3.2/11.6 MB 12.6 MB/s eta 0:00:01\n",
      "   ------------- -------------------------- 3.9/11.6 MB 12.3 MB/s eta 0:00:01\n",
      "   --------------- ------------------------ 4.6/11.6 MB 12.8 MB/s eta 0:00:01\n",
      "   ----------------- ---------------------- 5.1/11.6 MB 12.2 MB/s eta 0:00:01\n",
      "   -------------------- ------------------- 6.0/11.6 MB 12.7 MB/s eta 0:00:01\n",
      "   ---------------------- ----------------- 6.4/11.6 MB 12.8 MB/s eta 0:00:01\n",
      "   -------------------------- ------------- 7.6/11.6 MB 13.9 MB/s eta 0:00:01\n",
      "   ----------------------------- ---------- 8.5/11.6 MB 14.0 MB/s eta 0:00:01\n",
      "   ----------------------------------- ---- 10.4/11.6 MB 15.6 MB/s eta 0:00:01\n",
      "   ---------------------------------------  11.6/11.6 MB 16.0 MB/s eta 0:00:01\n",
      "   ---------------------------------------- 11.6/11.6 MB 14.2 MB/s eta 0:00:00\n",
      "Downloading pandas_flavor-0.6.0-py3-none-any.whl (7.2 kB)\n",
      "Downloading prettytable-3.11.0-py3-none-any.whl (28 kB)\n",
      "Downloading subword_nmt-0.3.8-py3-none-any.whl (27 kB)\n",
      "Downloading autograd-1.7.0-py3-none-any.whl (52 kB)\n",
      "   ---------------------------------------- 0.0/52.5 kB ? eta -:--:--\n",
      "   ---------------------------------------- 52.5/52.5 kB 2.6 MB/s eta 0:00:00\n",
      "Downloading formulaic-1.0.2-py3-none-any.whl (94 kB)\n",
      "   ---------------------------------------- 0.0/94.5 kB ? eta -:--:--\n",
      "   ---------------------------------------- 94.5/94.5 kB ? eta 0:00:00\n",
      "Downloading plotly-5.24.1-py3-none-any.whl (19.1 MB)\n",
      "   ---------------------------------------- 0.0/19.1 MB ? eta -:--:--\n",
      "   -- ------------------------------------- 1.4/19.1 MB 42.6 MB/s eta 0:00:01\n",
      "   ----- ---------------------------------- 2.7/19.1 MB 35.1 MB/s eta 0:00:01\n",
      "   --------- ------------------------------ 4.4/19.1 MB 35.4 MB/s eta 0:00:01\n",
      "   ------------ --------------------------- 6.0/19.1 MB 32.0 MB/s eta 0:00:01\n",
      "   --------------- ------------------------ 7.5/19.1 MB 34.1 MB/s eta 0:00:01\n",
      "   -------------------- ------------------- 9.7/19.1 MB 32.8 MB/s eta 0:00:01\n",
      "   ------------------------ --------------- 11.5/19.1 MB 32.8 MB/s eta 0:00:01\n",
      "   -------------------------- ------------- 12.6/19.1 MB 32.7 MB/s eta 0:00:01\n",
      "   ----------------------------- ---------- 14.2/19.1 MB 31.2 MB/s eta 0:00:01\n",
      "   -------------------------------- ------- 15.2/19.1 MB 29.7 MB/s eta 0:00:01\n",
      "   ----------------------------------- ---- 16.8/19.1 MB 31.1 MB/s eta 0:00:01\n",
      "   ------------------------------------- -- 17.9/19.1 MB 31.2 MB/s eta 0:00:01\n",
      "   ---------------------------------------  19.0/19.1 MB 31.2 MB/s eta 0:00:01\n",
      "   ---------------------------------------  19.0/19.1 MB 31.2 MB/s eta 0:00:01\n",
      "   ---------------------------------------- 19.1/19.1 MB 22.6 MB/s eta 0:00:00\n",
      "Using cached protobuf-4.23.4-cp310-abi3-win_amd64.whl (422 kB)\n",
      "Downloading hyperopt-0.2.7-py2.py3-none-any.whl (1.6 MB)\n",
      "   ---------------------------------------- 0.0/1.6 MB ? eta -:--:--\n",
      "   ---------------------------------------  1.6/1.6 MB 33.3 MB/s eta 0:00:01\n",
      "   ---------------------------------------- 1.6/1.6 MB 25.4 MB/s eta 0:00:00\n",
      "Downloading mock-5.1.0-py3-none-any.whl (30 kB)\n",
      "Downloading pyre_extensions-0.0.31-py3-none-any.whl (12 kB)\n",
      "Downloading interface_meta-1.3.0-py3-none-any.whl (14 kB)\n",
      "Downloading pyro_ppl-1.9.1-py3-none-any.whl (755 kB)\n",
      "   ---------------------------------------- 0.0/756.0 kB ? eta -:--:--\n",
      "   --------------------------------------- 756.0/756.0 kB 46.6 MB/s eta 0:00:00\n",
      "Downloading py4j-0.10.9.7-py2.py3-none-any.whl (200 kB)\n",
      "   ---------------------------------------- 0.0/200.5 kB ? eta -:--:--\n",
      "   --------------------------------------- 200.5/200.5 kB 12.7 MB/s eta 0:00:00\n",
      "Downloading pyro_api-0.1.2-py3-none-any.whl (11 kB)\n",
      "Downloading typeguard-4.3.0-py3-none-any.whl (35 kB)\n",
      "Building wheels for collected packages: DeepPurpose, wget, autograd-gamma\n",
      "  Building wheel for DeepPurpose (setup.py): started\n",
      "  Building wheel for DeepPurpose (setup.py): finished with status 'done'\n",
      "  Created wheel for DeepPurpose: filename=DeepPurpose-0.1.5-py3-none-any.whl size=155733 sha256=21a480b4bfcd8d1b397bd4846e20b98f0ce3050afdea608cc63c74e0bc83ef3e\n",
      "  Stored in directory: c:\\users\\ssanj\\appdata\\local\\pip\\cache\\wheels\\1c\\e9\\24\\b903ee38e2446369a9a69c700e5bf777ddee9b95b366fbb8f7\n",
      "  Building wheel for wget (setup.py): started\n",
      "  Building wheel for wget (setup.py): finished with status 'done'\n",
      "  Created wheel for wget: filename=wget-3.2-py3-none-any.whl size=9680 sha256=7f012e9ff0e9bd52a17b5572033d12381def525776ae84ae829a73fc5bcf904f\n",
      "  Stored in directory: c:\\users\\ssanj\\appdata\\local\\pip\\cache\\wheels\\40\\b3\\0f\\a40dbd1c6861731779f62cc4babcb234387e11d697df70ee97\n",
      "  Building wheel for autograd-gamma (setup.py): started\n",
      "  Building wheel for autograd-gamma (setup.py): finished with status 'done'\n",
      "  Created wheel for autograd-gamma: filename=autograd_gamma-0.5.0-py3-none-any.whl size=4049 sha256=f339a2cca87e05423b50d531d724403c8936b0172a181516d48b7aadbba14094\n",
      "  Stored in directory: c:\\users\\ssanj\\appdata\\local\\pip\\cache\\wheels\\8b\\67\\f4\\2caaae2146198dcb824f31a303833b07b14a5ec863fb3acd7b\n",
      "Successfully built DeepPurpose wget autograd-gamma\n",
      "Installing collected packages: wget, pyro-api, py4j, typeguard, protobuf, prettytable, plotly, mock, interface-meta, autograd, subword-nmt, pyre-extensions, pandas, jaxtyping, hyperopt, autograd-gamma, pyro-ppl, linear-operator, formulaic, dgllife, pandas-flavor, lifelines, gpytorch, botorch, ax-platform, DeepPurpose\n",
      "  Attempting uninstall: protobuf\n",
      "    Found existing installation: protobuf 5.28.2\n",
      "    Uninstalling protobuf-5.28.2:\n",
      "      Successfully uninstalled protobuf-5.28.2\n",
      "  Attempting uninstall: plotly\n",
      "    Found existing installation: plotly 5.9.0\n",
      "    Uninstalling plotly-5.9.0:\n",
      "      Successfully uninstalled plotly-5.9.0\n",
      "  Attempting uninstall: pandas\n",
      "    Found existing installation: pandas 2.0.3\n",
      "    Uninstalling pandas-2.0.3:\n",
      "      Successfully uninstalled pandas-2.0.3\n",
      "Successfully installed DeepPurpose-0.1.5 autograd-1.7.0 autograd-gamma-0.5.0 ax-platform-0.4.3 botorch-0.12.0 dgllife-0.3.2 formulaic-1.0.2 gpytorch-1.13 hyperopt-0.2.7 interface-meta-1.3.0 jaxtyping-0.2.19 lifelines-0.29.0 linear-operator-0.5.3 mock-5.1.0 pandas-2.2.3 pandas-flavor-0.6.0 plotly-5.24.1 prettytable-3.11.0 protobuf-4.23.4 py4j-0.10.9.7 pyre-extensions-0.0.31 pyro-api-0.1.2 pyro-ppl-1.9.1 subword-nmt-0.3.8 typeguard-4.3.0 wget-3.2\n"
     ]
    },
    {
     "name": "stderr",
     "output_type": "stream",
     "text": [
      "ERROR: pip's dependency resolver does not currently take into account all the packages that are installed. This behaviour is the source of the following dependency conflicts.\n",
      "grpcio-tools 1.66.2 requires protobuf<6.0dev,>=5.26.1, but you have protobuf 4.23.4 which is incompatible.\n"
     ]
    }
   ],
   "source": [
    "!pip install DeepPurpose"
   ]
  },
  {
   "cell_type": "code",
   "execution_count": 3,
   "metadata": {
    "scrolled": true
   },
   "outputs": [
    {
     "name": "stdout",
     "output_type": "stream",
     "text": [
      "Collecting git+https://github.com/bp-kelley/descriptastorus\n",
      "  Cloning https://github.com/bp-kelley/descriptastorus to c:\\users\\ssanj\\appdata\\local\\temp\\pip-req-build-2pod1p9u\n",
      "  Resolved https://github.com/bp-kelley/descriptastorus to commit 3f7626ecdc7582df5a148600aa683e4bd768d216\n",
      "  Preparing metadata (setup.py): started\n",
      "  Preparing metadata (setup.py): finished with status 'done'\n",
      "Requirement already satisfied: pandas_flavor in c:\\users\\ssanj\\anaconda3\\lib\\site-packages (from descriptastorus==2.7.0) (0.6.0)\n",
      "Requirement already satisfied: rdkit in c:\\users\\ssanj\\anaconda3\\lib\\site-packages (from descriptastorus==2.7.0) (2024.3.5)\n",
      "Requirement already satisfied: scipy in c:\\users\\ssanj\\anaconda3\\lib\\site-packages (from descriptastorus==2.7.0) (1.11.1)\n",
      "Requirement already satisfied: numpy in c:\\users\\ssanj\\anaconda3\\lib\\site-packages (from descriptastorus==2.7.0) (1.26.4)\n",
      "Requirement already satisfied: pandas>=0.23 in c:\\users\\ssanj\\anaconda3\\lib\\site-packages (from pandas_flavor->descriptastorus==2.7.0) (2.2.3)\n",
      "Requirement already satisfied: xarray in c:\\users\\ssanj\\anaconda3\\lib\\site-packages (from pandas_flavor->descriptastorus==2.7.0) (2023.6.0)\n",
      "Requirement already satisfied: Pillow in c:\\users\\ssanj\\anaconda3\\lib\\site-packages (from rdkit->descriptastorus==2.7.0) (10.0.1)\n",
      "Requirement already satisfied: python-dateutil>=2.8.2 in c:\\users\\ssanj\\anaconda3\\lib\\site-packages (from pandas>=0.23->pandas_flavor->descriptastorus==2.7.0) (2.8.2)\n",
      "Requirement already satisfied: pytz>=2020.1 in c:\\users\\ssanj\\anaconda3\\lib\\site-packages (from pandas>=0.23->pandas_flavor->descriptastorus==2.7.0) (2023.3.post1)\n",
      "Requirement already satisfied: tzdata>=2022.7 in c:\\users\\ssanj\\anaconda3\\lib\\site-packages (from pandas>=0.23->pandas_flavor->descriptastorus==2.7.0) (2023.3)\n",
      "Requirement already satisfied: packaging>=21.3 in c:\\users\\ssanj\\anaconda3\\lib\\site-packages (from xarray->pandas_flavor->descriptastorus==2.7.0) (23.2)\n",
      "Requirement already satisfied: six>=1.5 in c:\\users\\ssanj\\anaconda3\\lib\\site-packages (from python-dateutil>=2.8.2->pandas>=0.23->pandas_flavor->descriptastorus==2.7.0) (1.16.0)\n",
      "Building wheels for collected packages: descriptastorus\n",
      "  Building wheel for descriptastorus (setup.py): started\n",
      "  Building wheel for descriptastorus (setup.py): finished with status 'done'\n",
      "  Created wheel for descriptastorus: filename=descriptastorus-2.7.0-py3-none-any.whl size=1084331 sha256=8f2ae7b506d1f885c37a394cb70f7996794c5a5e882e2a24bc7c046dea33d1f6\n",
      "  Stored in directory: C:\\Users\\ssanj\\AppData\\Local\\Temp\\pip-ephem-wheel-cache-h82sic_k\\wheels\\a5\\37\\b0\\bc8b04ad2a1d1f3e17a7bff134d2a7e63621914e0a01d983a6\n",
      "Successfully built descriptastorus\n",
      "Installing collected packages: descriptastorus\n",
      "Successfully installed descriptastorus-2.7.0\n",
      "Note: you may need to restart the kernel to use updated packages.\n"
     ]
    },
    {
     "name": "stderr",
     "output_type": "stream",
     "text": [
      "  Running command git clone --filter=blob:none --quiet https://github.com/bp-kelley/descriptastorus 'C:\\Users\\ssanj\\AppData\\Local\\Temp\\pip-req-build-2pod1p9u'\n"
     ]
    }
   ],
   "source": [
    "pip install git+https://github.com/bp-kelley/descriptastorus"
   ]
  },
  {
   "cell_type": "code",
   "execution_count": null,
   "metadata": {},
   "outputs": [],
   "source": []
  },
  {
   "cell_type": "code",
   "execution_count": 4,
   "metadata": {},
   "outputs": [
    {
     "name": "stdout",
     "output_type": "stream",
     "text": [
      "WARNING:tensorflow:From C:\\Users\\ssanj\\anaconda3\\Lib\\site-packages\\keras\\src\\losses.py:2976: The name tf.losses.sparse_softmax_cross_entropy is deprecated. Please use tf.compat.v1.losses.sparse_softmax_cross_entropy instead.\n",
      "\n"
     ]
    }
   ],
   "source": [
    "from DeepPurpose import utils, dataset\n",
    "from DeepPurpose import DTI as models\n",
    "import warnings\n",
    "warnings.filterwarnings(\"ignore\")"
   ]
  },
  {
   "cell_type": "code",
   "execution_count": 7,
   "metadata": {},
   "outputs": [],
   "source": [
    "drug_encoding, target_encoding = 'MPNN', 'CNN'\n",
    "#drug_encoding, target_encoding = 'Morgan', 'Conjoint_triad'"
   ]
  },
  {
   "cell_type": "code",
   "execution_count": 17,
   "metadata": {},
   "outputs": [
    {
     "name": "stdout",
     "output_type": "stream",
     "text": [
      "Drug Target Interaction Prediction Mode...\n",
      "in total: 1 drug-target pairs\n",
      "encoding drug...\n",
      "unique drugs: 1\n",
      "encoding protein...\n",
      "unique target sequence: 1\n",
      "splitting dataset...\n",
      "Done.\n"
     ]
    },
    {
     "data": {
      "text/html": [
       "<div>\n",
       "<style scoped>\n",
       "    .dataframe tbody tr th:only-of-type {\n",
       "        vertical-align: middle;\n",
       "    }\n",
       "\n",
       "    .dataframe tbody tr th {\n",
       "        vertical-align: top;\n",
       "    }\n",
       "\n",
       "    .dataframe thead th {\n",
       "        text-align: right;\n",
       "    }\n",
       "</style>\n",
       "<table border=\"1\" class=\"dataframe\">\n",
       "  <thead>\n",
       "    <tr style=\"text-align: right;\">\n",
       "      <th></th>\n",
       "      <th>SMILES</th>\n",
       "      <th>Target Sequence</th>\n",
       "      <th>Label</th>\n",
       "      <th>drug_encoding</th>\n",
       "      <th>target_encoding</th>\n",
       "    </tr>\n",
       "  </thead>\n",
       "  <tbody>\n",
       "    <tr>\n",
       "      <th>0</th>\n",
       "      <td>CC1=C2C=C(C=CC2=NN1)C3=CC(=CN=C3)OCC(CC4=CC=CC...</td>\n",
       "      <td>MKKFFDSRREQGGSGLGSGSSGGGGSTSGLGSGYIGRVFGIGRQQV...</td>\n",
       "      <td>7.365</td>\n",
       "      <td>[[[tensor(1.), tensor(0.), tensor(0.), tensor(...</td>\n",
       "      <td>[M, K, K, F, F, D, S, R, R, E, Q, G, G, S, G, ...</td>\n",
       "    </tr>\n",
       "  </tbody>\n",
       "</table>\n",
       "</div>"
      ],
      "text/plain": [
       "                                              SMILES  \\\n",
       "0  CC1=C2C=C(C=CC2=NN1)C3=CC(=CN=C3)OCC(CC4=CC=CC...   \n",
       "\n",
       "                                     Target Sequence  Label  \\\n",
       "0  MKKFFDSRREQGGSGLGSGSSGGGGSTSGLGSGYIGRVFGIGRQQV...  7.365   \n",
       "\n",
       "                                       drug_encoding  \\\n",
       "0  [[[tensor(1.), tensor(0.), tensor(0.), tensor(...   \n",
       "\n",
       "                                     target_encoding  \n",
       "0  [M, K, K, F, F, D, S, R, R, E, Q, G, G, S, G, ...  "
      ]
     },
     "execution_count": 17,
     "metadata": {},
     "output_type": "execute_result"
    }
   ],
   "source": [
    "train, val, test = utils.data_process(X_drugs, X_targets, y, \n",
    "                                drug_encoding, target_encoding, \n",
    "                                split_method='random',frac=[0.7,0.1,0.2],\n",
    "                                random_seed = 1)\n",
    "train.head(5)"
   ]
  },
  {
   "cell_type": "markdown",
   "metadata": {},
   "source": [
    "(**Model configuration generation**) Now, we initialize a model with its configuration. You can modify almost any hyper-parameters (e.g., learning rate, epoch, batch size), model parameters (e.g. hidden dimensions, filter size) and etc in this function. The supported configurations are listed here in this [link](https://github.com/kexinhuang12345/DeepPurpose/blob/e169e2f550694145077bb2af95a4031abe400a77/DeepPurpose/utils.py#L486).\n",
    "\n",
    "For the sake of example, we specify the epoch size to be 5, and set the model parameters to be small so that you can run on both CPUs & GPUs quickly and can proceed to the next steps. For a reference parameters, checkout the notebooks in the DEMO folder."
   ]
  },
  {
   "cell_type": "code",
   "execution_count": 9,
   "metadata": {},
   "outputs": [],
   "source": [
    "config = utils.generate_config(drug_encoding = drug_encoding, \n",
    "                         target_encoding = target_encoding, \n",
    "                         cls_hidden_dims = [1024,1024,512], \n",
    "                         train_epoch = 5, \n",
    "                         LR = 0.001, \n",
    "                         batch_size = 128,\n",
    "                         hidden_dim_drug = 128,\n",
    "                         mpnn_hidden_size = 128,\n",
    "                         mpnn_depth = 3, \n",
    "                         cnn_target_filters = [32,64,96],\n",
    "                         cnn_target_kernels = [4,8,12]\n",
    "                        )"
   ]
  },
  {
   "cell_type": "markdown",
   "metadata": {},
   "source": [
    "(**Model initialization**) Next, we initialize a model using the above configuration."
   ]
  },
  {
   "cell_type": "code",
   "execution_count": 10,
   "metadata": {},
   "outputs": [
    {
     "data": {
      "text/plain": [
       "<DeepPurpose.DTI.DBTA at 0x247e631d090>"
      ]
     },
     "execution_count": 10,
     "metadata": {},
     "output_type": "execute_result"
    }
   ],
   "source": [
    "model = models.model_initialize(**config)\n",
    "model"
   ]
  },
  {
   "cell_type": "markdown",
   "metadata": {},
   "source": [
    "(**Model Training**) Next, it is ready to train, using the ```model.train``` function! If you do not have test set, you can just use ```model.train(train, val)```. "
   ]
  },
  {
   "cell_type": "code",
   "execution_count": 11,
   "metadata": {},
   "outputs": [
    {
     "name": "stdout",
     "output_type": "stream",
     "text": [
      "Let's use CPU/s!\n",
      "--- Data Preparation ---\n",
      "--- Go for Training ---\n",
      "Training at Epoch 1 iteration 0 with loss 31.2962. Total time 0.00111 hours\n",
      "Training at Epoch 1 iteration 100 with loss 0.84239. Total time 0.10222 hours\n",
      "Validation at Epoch 1 with loss:0.46824, MSE: 0.76227 , Pearson Correlation: 0.26593 with p-value: 7.79E-50 , Concordance Index: 0.62388\n",
      "Training at Epoch 2 iteration 0 with loss 0.78903. Total time 0.15777 hours\n",
      "Training at Epoch 2 iteration 100 with loss 0.80069. Total time 0.20638 hours\n",
      "Validation at Epoch 2 with loss:0.87315, MSE: 0.72741 , Pearson Correlation: 0.36730 with p-value: 1.16E-96 , Concordance Index: 0.69293\n",
      "Training at Epoch 3 iteration 0 with loss 0.82976. Total time 0.24194 hours\n",
      "Training at Epoch 3 iteration 100 with loss 0.81090. Total time 0.28833 hours\n",
      "Validation at Epoch 3 with loss:0.48035, MSE: 0.69970 , Pearson Correlation: 0.37770 with p-value: 1.51E-102 , Concordance Index: 0.70365\n",
      "Training at Epoch 4 iteration 0 with loss 0.83206. Total time 0.32416 hours\n",
      "Training at Epoch 4 iteration 100 with loss 0.75481. Total time 0.37194 hours\n",
      "Validation at Epoch 4 with loss:0.27318, MSE: 0.70177 , Pearson Correlation: 0.41410 with p-value: 6.87E-125 , Concordance Index: 0.72848\n",
      "Training at Epoch 5 iteration 0 with loss 0.71684. Total time 0.40805 hours\n",
      "Training at Epoch 5 iteration 100 with loss 0.73335. Total time 0.45888 hours\n",
      "Validation at Epoch 5 with loss:0.87045, MSE: 0.68287 , Pearson Correlation: 0.41665 with p-value: 1.45E-126 , Concordance Index: 0.72510\n",
      "--- Go for Testing ---\n",
      "Testing MSE: 0.6958062430713491 , Pearson Correlation: 0.39002515040798197 with p-value: 1.27E-217 , Concordance Index: 0.7142305755011991\n",
      "--- Training Finished ---\n"
     ]
    },
    {
     "data": {
      "image/png": "[encoded data removed]",
      "text/plain": [
       "<Figure size 640x480 with 1 Axes>"
      ]
     },
     "metadata": {},
     "output_type": "display_data"
    }
   ],
   "source": [
    "model.train(train, val, test)"
   ]
  },
  {
   "cell_type": "markdown",
   "metadata": {},
   "source": [
    "We see that the model will automatically generate and plot the training process, along with the validation result and test result.\n",
    "\n",
    "(**Model Prediction and Repuposing/Screening**) Next, we see how we can predict affinity scores on new data. Suppose the new data is a drug-target pair below."
   ]
  },
  {
   "cell_type": "code",
   "execution_count": 15,
   "metadata": {},
   "outputs": [
    {
     "name": "stdout",
     "output_type": "stream",
     "text": [
      "Drug Target Interaction Prediction Mode...\n",
      "in total: 1 drug-target pairs\n",
      "encoding drug...\n",
      "unique drugs: 1\n",
      "encoding protein...\n",
      "unique target sequence: 1\n",
      "splitting dataset...\n",
      "do not do train/test split on the data for already splitted data\n",
      "predicting...\n",
      "The predicted score is [5.705260276794434]\n"
     ]
    }
   ],
   "source": [
    "X_drug = ['CC1=C2C=C(C=CC2=NN1)C3=CC(=CN=C3)OCC(CC4=CC=CC=C4)N']\n",
    "X_target = ['MKKFFDSRREQGGSGLGSGSSGGGGSTSGLGSGYIGRVFGIGRQQVTVDEVLAEGGFAIVFLVRTSNGMKCALKRMFVNNEHDLQVCKREIQIMRDLSGHKNIVGYIDSSINNVSSGDVWEVLILMDFCRGGQVVNLMNQRLQTGFTENEVLQIFCDTCEAVARLHQCKTPIIHRDLKVENILLHDRGHYVLCDFGSATNKFQNPQTEGVNAVEDEIKKYTTLSYRAPEMVNLYSGKIITTKADIWALGCLLYKLCYFTLPFGESQVAICDGNFTIPDNSRYSQDMHCLIRYMLEPDPDKRPDIYQVSYFSFKLLKKECPIPNVQNSPIPAKLPEPVKASEAAAKKTQPKARLTDPIPTTETSIAPRQRPKAGQTQPNPGILPIQPALTPRKRATVQPPPQAAGSSNQPGLLASVPQPKPQAPPSQPLPQTQAKQPQAPPTPQQTPSTQAQGLPAQAQATPQHQQQLFLKQQQQQQQPPPAQQQPAGTFYQQQQAQTQQFQAVHPATQKPAIAQFPVVSQGGSQQQLMQNFYQQQQQQQQQQQQQQLATALHQQQLMTQQAALQQKPTMAAGQQPQPQPAAAPQPAPAQEPAIQAPVRQQPKVQTTPPPAVQGQKVGSLTPPSSPKTQRAGHRRILSDVTHSAVFGVPASKSTQLLQAAAAEASLNKSKSATTTPSGSPRTSQQNVYNPSEGSTWNPFDDDNFSKLTAEELLNKDFAKLGEGKHPEKLGGSAESLIPGFQSTQGDAFATTSFSAGTAEKRKGGQTVDSGLPLLSVSDPFIPLQVPDAPEKLIEGLKSPDTSLLLPDLLPMTDPFGSTSDAVIEKADVAVESLIPGLEPPVPQRLPSQTESVTSNRTDSLTGEDSLLDCSLLSNPTTDLLEEFAPTAISAPVHKAAEDSNLISGFDVPEGSDKVAEDEFDPIPVLITKNPQGGHSRNSSGSSESSLPNLARSLLLVDQLIDL']\n",
    "y = [7.365]\n",
    "X_pred = utils.data_process(X_drug, X_target, y, \n",
    "                                drug_encoding, target_encoding, \n",
    "                                split_method='no_split')\n",
    "y_pred = model.predict(X_pred)\n",
    "print('The predicted score is ' + str(y_pred))"
   ]
  },
  {
   "cell_type": "code",
   "execution_count": 18,
   "metadata": {},
   "outputs": [
    {
     "name": "stdout",
     "output_type": "stream",
     "text": [
      "Model saved as 'binding_model.pkl'.\n"
     ]
    }
   ],
   "source": [
    "import pickle\n",
    "\n",
    "# Save the model as a pickle file\n",
    "with open('binding_model.pkl', 'wb') as file:\n",
    "    pickle.dump(model, file)\n",
    "\n",
    "print(\"Model saved as 'binding_model.pkl'.\")\n"
   ]
  },
  {
   "cell_type": "code",
   "execution_count": null,
   "metadata": {},
   "outputs": [],
   "source": []
  },
  {
   "cell_type": "code",
   "execution_count": null,
   "metadata": {},
   "outputs": [],
   "source": []
  },
  {
   "cell_type": "code",
   "execution_count": null,
   "metadata": {},
   "outputs": [],
   "source": []
  },
  {
   "cell_type": "code",
   "execution_count": null,
   "metadata": {},
   "outputs": [],
   "source": []
  },
  {
   "cell_type": "code",
   "execution_count": null,
   "metadata": {},
   "outputs": [],
   "source": []
  },
  {
   "cell_type": "code",
   "execution_count": null,
   "metadata": {},
   "outputs": [],
   "source": []
  },
  {
   "cell_type": "code",
   "execution_count": null,
   "metadata": {},
   "outputs": [],
   "source": []
  }
 ],
 "metadata": {
  "kernelspec": {
   "display_name": "Python 3 (ipykernel)",
   "language": "python",
   "name": "python3"
  },
  "language_info": {
   "codemirror_mode": {
    "name": "ipython",
    "version": 3
   },
   "file_extension": ".py",
   "mimetype": "text/x-python",
   "name": "python",
   "nbconvert_exporter": "python",
   "pygments_lexer": "ipython3",
   "version": "3.11.5"
  }
 },
 "nbformat": 4,
 "nbformat_minor": 4
}
